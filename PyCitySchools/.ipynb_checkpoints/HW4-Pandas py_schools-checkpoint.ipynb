{
 "cells": [
  {
   "cell_type": "markdown",
   "metadata": {},
   "source": [
    "### Note\n",
    "* Instructions have been included for each segment. You do not have to follow them exactly, but they are included to help you think through the steps."
   ]
  },
  {
   "cell_type": "code",
   "execution_count": 17,
   "metadata": {},
   "outputs": [],
   "source": [
    "# Dependencies and Setup\n",
    "import pandas as pd"
   ]
  },
  {
   "cell_type": "code",
   "execution_count": 18,
   "metadata": {},
   "outputs": [],
   "source": [
    "# File to Load (Remember to Change These)\n",
    "school_data_to_load = \"Resources/schools_complete.csv\"\n",
    "student_data_to_load = \"Resources/students_complete.csv\""
   ]
  },
  {
   "cell_type": "code",
   "execution_count": 19,
   "metadata": {},
   "outputs": [],
   "source": [
    "# Read School and Student Data File and store into Pandas Data Frames\n",
    "school_data = pd.read_csv(school_data_to_load)\n",
    "student_data = pd.read_csv(student_data_to_load)"
   ]
  },
  {
   "cell_type": "code",
   "execution_count": 66,
   "metadata": {},
   "outputs": [
    {
     "data": {
      "text/html": [
       "<div>\n",
       "<style scoped>\n",
       "    .dataframe tbody tr th:only-of-type {\n",
       "        vertical-align: middle;\n",
       "    }\n",
       "\n",
       "    .dataframe tbody tr th {\n",
       "        vertical-align: top;\n",
       "    }\n",
       "\n",
       "    .dataframe thead th {\n",
       "        text-align: right;\n",
       "    }\n",
       "</style>\n",
       "<table border=\"1\" class=\"dataframe\">\n",
       "  <thead>\n",
       "    <tr style=\"text-align: right;\">\n",
       "      <th></th>\n",
       "      <th>School ID</th>\n",
       "      <th>school_name</th>\n",
       "      <th>type</th>\n",
       "      <th>size</th>\n",
       "      <th>budget</th>\n",
       "    </tr>\n",
       "  </thead>\n",
       "  <tbody>\n",
       "    <tr>\n",
       "      <th>0</th>\n",
       "      <td>0</td>\n",
       "      <td>Huang High School</td>\n",
       "      <td>District</td>\n",
       "      <td>2917</td>\n",
       "      <td>1910635</td>\n",
       "    </tr>\n",
       "    <tr>\n",
       "      <th>1</th>\n",
       "      <td>1</td>\n",
       "      <td>Figueroa High School</td>\n",
       "      <td>District</td>\n",
       "      <td>2949</td>\n",
       "      <td>1884411</td>\n",
       "    </tr>\n",
       "    <tr>\n",
       "      <th>2</th>\n",
       "      <td>2</td>\n",
       "      <td>Shelton High School</td>\n",
       "      <td>Charter</td>\n",
       "      <td>1761</td>\n",
       "      <td>1056600</td>\n",
       "    </tr>\n",
       "    <tr>\n",
       "      <th>3</th>\n",
       "      <td>3</td>\n",
       "      <td>Hernandez High School</td>\n",
       "      <td>District</td>\n",
       "      <td>4635</td>\n",
       "      <td>3022020</td>\n",
       "    </tr>\n",
       "    <tr>\n",
       "      <th>4</th>\n",
       "      <td>4</td>\n",
       "      <td>Griffin High School</td>\n",
       "      <td>Charter</td>\n",
       "      <td>1468</td>\n",
       "      <td>917500</td>\n",
       "    </tr>\n",
       "    <tr>\n",
       "      <th>5</th>\n",
       "      <td>5</td>\n",
       "      <td>Wilson High School</td>\n",
       "      <td>Charter</td>\n",
       "      <td>2283</td>\n",
       "      <td>1319574</td>\n",
       "    </tr>\n",
       "    <tr>\n",
       "      <th>6</th>\n",
       "      <td>6</td>\n",
       "      <td>Cabrera High School</td>\n",
       "      <td>Charter</td>\n",
       "      <td>1858</td>\n",
       "      <td>1081356</td>\n",
       "    </tr>\n",
       "    <tr>\n",
       "      <th>7</th>\n",
       "      <td>7</td>\n",
       "      <td>Bailey High School</td>\n",
       "      <td>District</td>\n",
       "      <td>4976</td>\n",
       "      <td>3124928</td>\n",
       "    </tr>\n",
       "    <tr>\n",
       "      <th>8</th>\n",
       "      <td>8</td>\n",
       "      <td>Holden High School</td>\n",
       "      <td>Charter</td>\n",
       "      <td>427</td>\n",
       "      <td>248087</td>\n",
       "    </tr>\n",
       "    <tr>\n",
       "      <th>9</th>\n",
       "      <td>9</td>\n",
       "      <td>Pena High School</td>\n",
       "      <td>Charter</td>\n",
       "      <td>962</td>\n",
       "      <td>585858</td>\n",
       "    </tr>\n",
       "    <tr>\n",
       "      <th>10</th>\n",
       "      <td>10</td>\n",
       "      <td>Wright High School</td>\n",
       "      <td>Charter</td>\n",
       "      <td>1800</td>\n",
       "      <td>1049400</td>\n",
       "    </tr>\n",
       "    <tr>\n",
       "      <th>11</th>\n",
       "      <td>11</td>\n",
       "      <td>Rodriguez High School</td>\n",
       "      <td>District</td>\n",
       "      <td>3999</td>\n",
       "      <td>2547363</td>\n",
       "    </tr>\n",
       "    <tr>\n",
       "      <th>12</th>\n",
       "      <td>12</td>\n",
       "      <td>Johnson High School</td>\n",
       "      <td>District</td>\n",
       "      <td>4761</td>\n",
       "      <td>3094650</td>\n",
       "    </tr>\n",
       "    <tr>\n",
       "      <th>13</th>\n",
       "      <td>13</td>\n",
       "      <td>Ford High School</td>\n",
       "      <td>District</td>\n",
       "      <td>2739</td>\n",
       "      <td>1763916</td>\n",
       "    </tr>\n",
       "    <tr>\n",
       "      <th>14</th>\n",
       "      <td>14</td>\n",
       "      <td>Thomas High School</td>\n",
       "      <td>Charter</td>\n",
       "      <td>1635</td>\n",
       "      <td>1043130</td>\n",
       "    </tr>\n",
       "  </tbody>\n",
       "</table>\n",
       "</div>"
      ],
      "text/plain": [
       "    School ID            school_name      type  size   budget\n",
       "0           0      Huang High School  District  2917  1910635\n",
       "1           1   Figueroa High School  District  2949  1884411\n",
       "2           2    Shelton High School   Charter  1761  1056600\n",
       "3           3  Hernandez High School  District  4635  3022020\n",
       "4           4    Griffin High School   Charter  1468   917500\n",
       "5           5     Wilson High School   Charter  2283  1319574\n",
       "6           6    Cabrera High School   Charter  1858  1081356\n",
       "7           7     Bailey High School  District  4976  3124928\n",
       "8           8     Holden High School   Charter   427   248087\n",
       "9           9       Pena High School   Charter   962   585858\n",
       "10         10     Wright High School   Charter  1800  1049400\n",
       "11         11  Rodriguez High School  District  3999  2547363\n",
       "12         12    Johnson High School  District  4761  3094650\n",
       "13         13       Ford High School  District  2739  1763916\n",
       "14         14     Thomas High School   Charter  1635  1043130"
      ]
     },
     "execution_count": 66,
     "metadata": {},
     "output_type": "execute_result"
    }
   ],
   "source": [
    "\n",
    "school_data\n"
   ]
  },
  {
   "cell_type": "code",
   "execution_count": 20,
   "metadata": {},
   "outputs": [],
   "source": [
    "# Combine the data into a single dataset\n",
    "school_data_complete = pd.merge(student_data, school_data, how=\"left\", on=[\"school_name\", \"school_name\"])"
   ]
  },
  {
   "cell_type": "markdown",
   "metadata": {},
   "source": [
    "\n",
    "\n",
    "* Calculate the total number of schools\n",
    "\n",
    "* Calculate the total number of students\n",
    "\n",
    "* Calculate the total budget\n",
    "\n",
    "* Calculate the average math score \n",
    "\n",
    "* Calculate the average reading score\n",
    "\n",
    "* Calculate the overall passing rate (overall average score), i.e. (avg. math score + avg. reading score)/2\n",
    "\n",
    "* Calculate the percentage of students with a passing math score (70 or greater)\n",
    "\n",
    "* Calculate the percentage of students with a passing reading score (70 or greater)\n",
    "\n",
    "* Create a dataframe to hold the above results\n",
    "\n",
    "* Optional: give the displayed data cleaner formatting"
   ]
  },
  {
   "cell_type": "code",
   "execution_count": 33,
   "metadata": {},
   "outputs": [],
   "source": [
    "#create array of unique school names\n",
    "unique_school_names = school_data['school_name'].unique()"
   ]
  },
  {
   "cell_type": "code",
   "execution_count": 37,
   "metadata": {},
   "outputs": [
    {
     "data": {
      "text/plain": [
       "['Huang High School',\n",
       " 'Figueroa High School',\n",
       " 'Shelton High School',\n",
       " 'Hernandez High School',\n",
       " 'Griffin High School',\n",
       " 'Wilson High School',\n",
       " 'Cabrera High School',\n",
       " 'Bailey High School',\n",
       " 'Holden High School',\n",
       " 'Pena High School',\n",
       " 'Wright High School',\n",
       " 'Rodriguez High School',\n",
       " 'Johnson High School',\n",
       " 'Ford High School',\n",
       " 'Thomas High School']"
      ]
     },
     "execution_count": 37,
     "metadata": {},
     "output_type": "execute_result"
    }
   ],
   "source": [
    "list(unique_school_names)"
   ]
  },
  {
   "cell_type": "code",
   "execution_count": 23,
   "metadata": {},
   "outputs": [],
   "source": [
    "#gives the length of unique school names to give us how many schools\n",
    "school_count = len(unique_school_names)"
   ]
  },
  {
   "cell_type": "code",
   "execution_count": 38,
   "metadata": {},
   "outputs": [
    {
     "data": {
      "text/plain": [
       "15"
      ]
     },
     "execution_count": 38,
     "metadata": {},
     "output_type": "execute_result"
    }
   ],
   "source": [
    "school_count"
   ]
  },
  {
   "cell_type": "code",
   "execution_count": 24,
   "metadata": {},
   "outputs": [],
   "source": [
    "#district student count\n",
    "dist_student_count = school_data['size'].sum()"
   ]
  },
  {
   "cell_type": "code",
   "execution_count": 39,
   "metadata": {},
   "outputs": [
    {
     "data": {
      "text/plain": [
       "39170"
      ]
     },
     "execution_count": 39,
     "metadata": {},
     "output_type": "execute_result"
    }
   ],
   "source": [
    "dist_student_count"
   ]
  },
  {
   "cell_type": "code",
   "execution_count": 31,
   "metadata": {},
   "outputs": [],
   "source": [
    "#student count from student file (to verify with district student count)\n",
    "total_student_rec = student_data['student_name'].count()"
   ]
  },
  {
   "cell_type": "code",
   "execution_count": 40,
   "metadata": {},
   "outputs": [
    {
     "data": {
      "text/plain": [
       "39170"
      ]
     },
     "execution_count": 40,
     "metadata": {},
     "output_type": "execute_result"
    }
   ],
   "source": [
    "total_student_rec"
   ]
  },
  {
   "cell_type": "code",
   "execution_count": 32,
   "metadata": {},
   "outputs": [],
   "source": [
    "#total budget\n",
    "total_budget = school_data['budget'].sum()"
   ]
  },
  {
   "cell_type": "code",
   "execution_count": 41,
   "metadata": {},
   "outputs": [
    {
     "data": {
      "text/plain": [
       "24649428"
      ]
     },
     "execution_count": 41,
     "metadata": {},
     "output_type": "execute_result"
    }
   ],
   "source": [
    "total_budget"
   ]
  },
  {
   "cell_type": "code",
   "execution_count": 43,
   "metadata": {},
   "outputs": [],
   "source": [
    "#calculations for number and % passing reading\n",
    "num_passing_reading = student_data[student_data['reading_score'] >= 70]['reading_score'].count()\n",
    "perc_pass_reading = num_passing_reading/total_student_rec"
   ]
  },
  {
   "cell_type": "code",
   "execution_count": 45,
   "metadata": {
    "scrolled": true
   },
   "outputs": [
    {
     "data": {
      "text/plain": [
       "33610"
      ]
     },
     "execution_count": 45,
     "metadata": {},
     "output_type": "execute_result"
    }
   ],
   "source": [
    "num_passing_reading"
   ]
  },
  {
   "cell_type": "code",
   "execution_count": 46,
   "metadata": {},
   "outputs": [
    {
     "data": {
      "text/plain": [
       "0.8580546336482001"
      ]
     },
     "execution_count": 46,
     "metadata": {},
     "output_type": "execute_result"
    }
   ],
   "source": [
    "perc_pass_reading"
   ]
  },
  {
   "cell_type": "code",
   "execution_count": 49,
   "metadata": {},
   "outputs": [],
   "source": [
    "#calculations for number and % passing math\n",
    "num_passing_math = student_data[student_data['math_score'] >= 70]['math_score'].count()\n",
    "perc_pass_math = num_passing_math/total_student_rec"
   ]
  },
  {
   "cell_type": "code",
   "execution_count": 50,
   "metadata": {},
   "outputs": [
    {
     "data": {
      "text/plain": [
       "29370"
      ]
     },
     "execution_count": 50,
     "metadata": {},
     "output_type": "execute_result"
    }
   ],
   "source": [
    "num_passing_math"
   ]
  },
  {
   "cell_type": "code",
   "execution_count": 51,
   "metadata": {},
   "outputs": [
    {
     "data": {
      "text/plain": [
       "0.749808526933878"
      ]
     },
     "execution_count": 51,
     "metadata": {},
     "output_type": "execute_result"
    }
   ],
   "source": [
    "perc_pass_math"
   ]
  },
  {
   "cell_type": "code",
   "execution_count": 52,
   "metadata": {},
   "outputs": [],
   "source": [
    "#average math score calculation\n",
    "avg_math_score = student_data['math_score'].mean()"
   ]
  },
  {
   "cell_type": "code",
   "execution_count": 53,
   "metadata": {},
   "outputs": [
    {
     "data": {
      "text/plain": [
       "78.98537145774827"
      ]
     },
     "execution_count": 53,
     "metadata": {},
     "output_type": "execute_result"
    }
   ],
   "source": [
    "avg_math_score"
   ]
  },
  {
   "cell_type": "code",
   "execution_count": 54,
   "metadata": {},
   "outputs": [],
   "source": [
    "#average reading score calculation\n",
    "avg_reading_score = student_data['reading_score'].mean()"
   ]
  },
  {
   "cell_type": "code",
   "execution_count": 55,
   "metadata": {},
   "outputs": [
    {
     "data": {
      "text/plain": [
       "81.87784018381414"
      ]
     },
     "execution_count": 55,
     "metadata": {},
     "output_type": "execute_result"
    }
   ],
   "source": [
    "avg_reading_score"
   ]
  },
  {
   "cell_type": "code",
   "execution_count": 57,
   "metadata": {},
   "outputs": [],
   "source": [
    "#Overall Passing Rate Calculationsent_rec\n",
    "overall_pass = student_data[(student_data['math_score'] >= 70) & (student_data['reading_score'] >= 70)]['student_name'].count()/total_student_rec\n"
   ]
  },
  {
   "cell_type": "code",
   "execution_count": 58,
   "metadata": {},
   "outputs": [
    {
     "data": {
      "text/plain": [
       "0.6517232575950983"
      ]
     },
     "execution_count": 58,
     "metadata": {},
     "output_type": "execute_result"
    }
   ],
   "source": [
    "overall_pass"
   ]
  },
  {
   "cell_type": "markdown",
   "metadata": {},
   "source": [
    "# District Summary"
   ]
  },
  {
   "cell_type": "code",
   "execution_count": 63,
   "metadata": {},
   "outputs": [],
   "source": [
    "district_summary = pd.DataFrame({\n",
    "    \n",
    "    \"Total Schools\": [school_count],\n",
    "    \"Total Students\": [dist_student_count],\n",
    "    \"Total Budget\": [total_budget],\n",
    "    \"Average Reading Score\": [avg_reading_score],\n",
    "    \"Average Math Score\": [avg_math_score],\n",
    "    \"% Passing Reading\":[perc_pass_reading],\n",
    "    \"% Passing Math\": [perc_pass_math],\n",
    "    \"Overall Passing Rate\": [overall_pass]})"
   ]
  },
  {
   "cell_type": "code",
   "execution_count": 64,
   "metadata": {},
   "outputs": [],
   "source": [
    "#store as different df to change order\n",
    "dist_sum = district_summary[[\"Total Schools\", \n",
    "                             \"Total Students\", \n",
    "                             \"Total Budget\", \n",
    "                             \"Average Reading Score\", \n",
    "                             \"Average Math Score\", \n",
    "                             '% Passing Reading', \n",
    "                             '% Passing Math', \n",
    "                             'Overall Passing Rate']]"
   ]
  },
  {
   "cell_type": "code",
   "execution_count": 65,
   "metadata": {},
   "outputs": [
    {
     "data": {
      "text/html": [
       "<style  type=\"text/css\" >\n",
       "</style><table id=\"T_2398acfa_df21_11e9_90a8_484d7eea204c\" ><thead>    <tr>        <th class=\"blank level0\" ></th>        <th class=\"col_heading level0 col0\" >Total Schools</th>        <th class=\"col_heading level0 col1\" >Total Students</th>        <th class=\"col_heading level0 col2\" >Total Budget</th>        <th class=\"col_heading level0 col3\" >Average Reading Score</th>        <th class=\"col_heading level0 col4\" >Average Math Score</th>        <th class=\"col_heading level0 col5\" >% Passing Reading</th>        <th class=\"col_heading level0 col6\" >% Passing Math</th>        <th class=\"col_heading level0 col7\" >Overall Passing Rate</th>    </tr></thead><tbody>\n",
       "                <tr>\n",
       "                        <th id=\"T_2398acfa_df21_11e9_90a8_484d7eea204clevel0_row0\" class=\"row_heading level0 row0\" >0</th>\n",
       "                        <td id=\"T_2398acfa_df21_11e9_90a8_484d7eea204crow0_col0\" class=\"data row0 col0\" >15</td>\n",
       "                        <td id=\"T_2398acfa_df21_11e9_90a8_484d7eea204crow0_col1\" class=\"data row0 col1\" >39170</td>\n",
       "                        <td id=\"T_2398acfa_df21_11e9_90a8_484d7eea204crow0_col2\" class=\"data row0 col2\" >$24,649,428.00</td>\n",
       "                        <td id=\"T_2398acfa_df21_11e9_90a8_484d7eea204crow0_col3\" class=\"data row0 col3\" >81.9</td>\n",
       "                        <td id=\"T_2398acfa_df21_11e9_90a8_484d7eea204crow0_col4\" class=\"data row0 col4\" >79.0</td>\n",
       "                        <td id=\"T_2398acfa_df21_11e9_90a8_484d7eea204crow0_col5\" class=\"data row0 col5\" >85.8%</td>\n",
       "                        <td id=\"T_2398acfa_df21_11e9_90a8_484d7eea204crow0_col6\" class=\"data row0 col6\" >75.0%</td>\n",
       "                        <td id=\"T_2398acfa_df21_11e9_90a8_484d7eea204crow0_col7\" class=\"data row0 col7\" >65.2%</td>\n",
       "            </tr>\n",
       "    </tbody></table>"
      ],
      "text/plain": [
       "<pandas.io.formats.style.Styler at 0x15d029e1e10>"
      ]
     },
     "execution_count": 65,
     "metadata": {},
     "output_type": "execute_result"
    }
   ],
   "source": [
    "#format cells\n",
    "dist_sum.style.format({\"Total Budget\": \"${:,.2f}\", \n",
    "                       \"Average Reading Score\": \"{:.1f}\", \n",
    "                       \"Average Math Score\": \"{:.1f}\", \n",
    "                       \"% Passing Math\": \"{:.1%}\", \n",
    "                       \"% Passing Reading\": \"{:.1%}\", \n",
    "                       \"Overall Passing Rate\": \"{:.1%}\"})"
   ]
  },
  {
   "cell_type": "code",
   "execution_count": 71,
   "metadata": {},
   "outputs": [],
   "source": [
    "#groups by school\n",
    "by_school = school_data_complete.set_index('school_name').groupby(['school_name'])"
   ]
  },
  {
   "cell_type": "code",
   "execution_count": 72,
   "metadata": {},
   "outputs": [],
   "source": [
    "#school types\n",
    "sch_types = school_data.set_index('school_name')['type']"
   ]
  },
  {
   "cell_type": "code",
   "execution_count": 73,
   "metadata": {},
   "outputs": [],
   "source": [
    "# total students by school\n",
    "stu_per_sch = by_school['Student ID'].count()"
   ]
  },
  {
   "cell_type": "code",
   "execution_count": 74,
   "metadata": {},
   "outputs": [],
   "source": [
    "# school budget\n",
    "sch_budget = school_data.set_index('school_name')['budget']"
   ]
  },
  {
   "cell_type": "code",
   "execution_count": 75,
   "metadata": {},
   "outputs": [],
   "source": [
    "#per student budget\n",
    "stu_budget = school_data.set_index('school_name')['budget']/school_data.set_index('school_name')['size']"
   ]
  },
  {
   "cell_type": "code",
   "execution_count": 76,
   "metadata": {},
   "outputs": [],
   "source": [
    "#avg scores by school\n",
    "avg_math = by_school['math_score'].mean()\n",
    "avg_read = by_school['reading_score'].mean()"
   ]
  },
  {
   "cell_type": "code",
   "execution_count": 80,
   "metadata": {},
   "outputs": [],
   "source": [
    "# % passing scores\n",
    "pass_math = school_data_complete[school_data_complete['math_score'] >= 70].groupby('school_name')['Student ID'].count()/stu_per_sch \n",
    "pass_read = school_data_complete[school_data_complete['reading_score'] >= 70].groupby('school_name')['Student ID'].count()/stu_per_sch \n",
    "overall = school_data_complete[(school_data_complete['reading_score'] >= 70) & (school_data_complete['math_score'] >= 70)].groupby('school_name')['Student ID'].count()/stu_per_sch"
   ]
  },
  {
   "cell_type": "code",
   "execution_count": 81,
   "metadata": {},
   "outputs": [
    {
     "data": {
      "text/html": [
       "<style  type=\"text/css\" >\n",
       "</style><table id=\"T_a1fee57a_df22_11e9_aa93_484d7eea204c\" ><thead>    <tr>        <th class=\"blank level0\" ></th>        <th class=\"col_heading level0 col0\" >School Type</th>        <th class=\"col_heading level0 col1\" >Total Students</th>        <th class=\"col_heading level0 col2\" >Total School Budget</th>        <th class=\"col_heading level0 col3\" >Per Student Budget</th>        <th class=\"col_heading level0 col4\" >Average Math Score</th>        <th class=\"col_heading level0 col5\" >Average Reading Score</th>        <th class=\"col_heading level0 col6\" >% Passing Math</th>        <th class=\"col_heading level0 col7\" >% Passing Reading</th>        <th class=\"col_heading level0 col8\" >Overall Passing Rate</th>    </tr></thead><tbody>\n",
       "                <tr>\n",
       "                        <th id=\"T_a1fee57a_df22_11e9_aa93_484d7eea204clevel0_row0\" class=\"row_heading level0 row0\" >Bailey High School</th>\n",
       "                        <td id=\"T_a1fee57a_df22_11e9_aa93_484d7eea204crow0_col0\" class=\"data row0 col0\" >District</td>\n",
       "                        <td id=\"T_a1fee57a_df22_11e9_aa93_484d7eea204crow0_col1\" class=\"data row0 col1\" >4,976</td>\n",
       "                        <td id=\"T_a1fee57a_df22_11e9_aa93_484d7eea204crow0_col2\" class=\"data row0 col2\" >$3,124,928</td>\n",
       "                        <td id=\"T_a1fee57a_df22_11e9_aa93_484d7eea204crow0_col3\" class=\"data row0 col3\" >$628</td>\n",
       "                        <td id=\"T_a1fee57a_df22_11e9_aa93_484d7eea204crow0_col4\" class=\"data row0 col4\" >77.0</td>\n",
       "                        <td id=\"T_a1fee57a_df22_11e9_aa93_484d7eea204crow0_col5\" class=\"data row0 col5\" >81.0</td>\n",
       "                        <td id=\"T_a1fee57a_df22_11e9_aa93_484d7eea204crow0_col6\" class=\"data row0 col6\" >66.7%</td>\n",
       "                        <td id=\"T_a1fee57a_df22_11e9_aa93_484d7eea204crow0_col7\" class=\"data row0 col7\" >81.9%</td>\n",
       "                        <td id=\"T_a1fee57a_df22_11e9_aa93_484d7eea204crow0_col8\" class=\"data row0 col8\" >54.6%</td>\n",
       "            </tr>\n",
       "            <tr>\n",
       "                        <th id=\"T_a1fee57a_df22_11e9_aa93_484d7eea204clevel0_row1\" class=\"row_heading level0 row1\" >Cabrera High School</th>\n",
       "                        <td id=\"T_a1fee57a_df22_11e9_aa93_484d7eea204crow1_col0\" class=\"data row1 col0\" >Charter</td>\n",
       "                        <td id=\"T_a1fee57a_df22_11e9_aa93_484d7eea204crow1_col1\" class=\"data row1 col1\" >1,858</td>\n",
       "                        <td id=\"T_a1fee57a_df22_11e9_aa93_484d7eea204crow1_col2\" class=\"data row1 col2\" >$1,081,356</td>\n",
       "                        <td id=\"T_a1fee57a_df22_11e9_aa93_484d7eea204crow1_col3\" class=\"data row1 col3\" >$582</td>\n",
       "                        <td id=\"T_a1fee57a_df22_11e9_aa93_484d7eea204crow1_col4\" class=\"data row1 col4\" >83.1</td>\n",
       "                        <td id=\"T_a1fee57a_df22_11e9_aa93_484d7eea204crow1_col5\" class=\"data row1 col5\" >84.0</td>\n",
       "                        <td id=\"T_a1fee57a_df22_11e9_aa93_484d7eea204crow1_col6\" class=\"data row1 col6\" >94.1%</td>\n",
       "                        <td id=\"T_a1fee57a_df22_11e9_aa93_484d7eea204crow1_col7\" class=\"data row1 col7\" >97.0%</td>\n",
       "                        <td id=\"T_a1fee57a_df22_11e9_aa93_484d7eea204crow1_col8\" class=\"data row1 col8\" >91.3%</td>\n",
       "            </tr>\n",
       "            <tr>\n",
       "                        <th id=\"T_a1fee57a_df22_11e9_aa93_484d7eea204clevel0_row2\" class=\"row_heading level0 row2\" >Figueroa High School</th>\n",
       "                        <td id=\"T_a1fee57a_df22_11e9_aa93_484d7eea204crow2_col0\" class=\"data row2 col0\" >District</td>\n",
       "                        <td id=\"T_a1fee57a_df22_11e9_aa93_484d7eea204crow2_col1\" class=\"data row2 col1\" >2,949</td>\n",
       "                        <td id=\"T_a1fee57a_df22_11e9_aa93_484d7eea204crow2_col2\" class=\"data row2 col2\" >$1,884,411</td>\n",
       "                        <td id=\"T_a1fee57a_df22_11e9_aa93_484d7eea204crow2_col3\" class=\"data row2 col3\" >$639</td>\n",
       "                        <td id=\"T_a1fee57a_df22_11e9_aa93_484d7eea204crow2_col4\" class=\"data row2 col4\" >76.7</td>\n",
       "                        <td id=\"T_a1fee57a_df22_11e9_aa93_484d7eea204crow2_col5\" class=\"data row2 col5\" >81.2</td>\n",
       "                        <td id=\"T_a1fee57a_df22_11e9_aa93_484d7eea204crow2_col6\" class=\"data row2 col6\" >66.0%</td>\n",
       "                        <td id=\"T_a1fee57a_df22_11e9_aa93_484d7eea204crow2_col7\" class=\"data row2 col7\" >80.7%</td>\n",
       "                        <td id=\"T_a1fee57a_df22_11e9_aa93_484d7eea204crow2_col8\" class=\"data row2 col8\" >53.2%</td>\n",
       "            </tr>\n",
       "            <tr>\n",
       "                        <th id=\"T_a1fee57a_df22_11e9_aa93_484d7eea204clevel0_row3\" class=\"row_heading level0 row3\" >Ford High School</th>\n",
       "                        <td id=\"T_a1fee57a_df22_11e9_aa93_484d7eea204crow3_col0\" class=\"data row3 col0\" >District</td>\n",
       "                        <td id=\"T_a1fee57a_df22_11e9_aa93_484d7eea204crow3_col1\" class=\"data row3 col1\" >2,739</td>\n",
       "                        <td id=\"T_a1fee57a_df22_11e9_aa93_484d7eea204crow3_col2\" class=\"data row3 col2\" >$1,763,916</td>\n",
       "                        <td id=\"T_a1fee57a_df22_11e9_aa93_484d7eea204crow3_col3\" class=\"data row3 col3\" >$644</td>\n",
       "                        <td id=\"T_a1fee57a_df22_11e9_aa93_484d7eea204crow3_col4\" class=\"data row3 col4\" >77.1</td>\n",
       "                        <td id=\"T_a1fee57a_df22_11e9_aa93_484d7eea204crow3_col5\" class=\"data row3 col5\" >80.7</td>\n",
       "                        <td id=\"T_a1fee57a_df22_11e9_aa93_484d7eea204crow3_col6\" class=\"data row3 col6\" >68.3%</td>\n",
       "                        <td id=\"T_a1fee57a_df22_11e9_aa93_484d7eea204crow3_col7\" class=\"data row3 col7\" >79.3%</td>\n",
       "                        <td id=\"T_a1fee57a_df22_11e9_aa93_484d7eea204crow3_col8\" class=\"data row3 col8\" >54.3%</td>\n",
       "            </tr>\n",
       "            <tr>\n",
       "                        <th id=\"T_a1fee57a_df22_11e9_aa93_484d7eea204clevel0_row4\" class=\"row_heading level0 row4\" >Griffin High School</th>\n",
       "                        <td id=\"T_a1fee57a_df22_11e9_aa93_484d7eea204crow4_col0\" class=\"data row4 col0\" >Charter</td>\n",
       "                        <td id=\"T_a1fee57a_df22_11e9_aa93_484d7eea204crow4_col1\" class=\"data row4 col1\" >1,468</td>\n",
       "                        <td id=\"T_a1fee57a_df22_11e9_aa93_484d7eea204crow4_col2\" class=\"data row4 col2\" >$917,500</td>\n",
       "                        <td id=\"T_a1fee57a_df22_11e9_aa93_484d7eea204crow4_col3\" class=\"data row4 col3\" >$625</td>\n",
       "                        <td id=\"T_a1fee57a_df22_11e9_aa93_484d7eea204crow4_col4\" class=\"data row4 col4\" >83.4</td>\n",
       "                        <td id=\"T_a1fee57a_df22_11e9_aa93_484d7eea204crow4_col5\" class=\"data row4 col5\" >83.8</td>\n",
       "                        <td id=\"T_a1fee57a_df22_11e9_aa93_484d7eea204crow4_col6\" class=\"data row4 col6\" >93.4%</td>\n",
       "                        <td id=\"T_a1fee57a_df22_11e9_aa93_484d7eea204crow4_col7\" class=\"data row4 col7\" >97.1%</td>\n",
       "                        <td id=\"T_a1fee57a_df22_11e9_aa93_484d7eea204crow4_col8\" class=\"data row4 col8\" >90.6%</td>\n",
       "            </tr>\n",
       "            <tr>\n",
       "                        <th id=\"T_a1fee57a_df22_11e9_aa93_484d7eea204clevel0_row5\" class=\"row_heading level0 row5\" >Hernandez High School</th>\n",
       "                        <td id=\"T_a1fee57a_df22_11e9_aa93_484d7eea204crow5_col0\" class=\"data row5 col0\" >District</td>\n",
       "                        <td id=\"T_a1fee57a_df22_11e9_aa93_484d7eea204crow5_col1\" class=\"data row5 col1\" >4,635</td>\n",
       "                        <td id=\"T_a1fee57a_df22_11e9_aa93_484d7eea204crow5_col2\" class=\"data row5 col2\" >$3,022,020</td>\n",
       "                        <td id=\"T_a1fee57a_df22_11e9_aa93_484d7eea204crow5_col3\" class=\"data row5 col3\" >$652</td>\n",
       "                        <td id=\"T_a1fee57a_df22_11e9_aa93_484d7eea204crow5_col4\" class=\"data row5 col4\" >77.3</td>\n",
       "                        <td id=\"T_a1fee57a_df22_11e9_aa93_484d7eea204crow5_col5\" class=\"data row5 col5\" >80.9</td>\n",
       "                        <td id=\"T_a1fee57a_df22_11e9_aa93_484d7eea204crow5_col6\" class=\"data row5 col6\" >66.8%</td>\n",
       "                        <td id=\"T_a1fee57a_df22_11e9_aa93_484d7eea204crow5_col7\" class=\"data row5 col7\" >80.9%</td>\n",
       "                        <td id=\"T_a1fee57a_df22_11e9_aa93_484d7eea204crow5_col8\" class=\"data row5 col8\" >53.5%</td>\n",
       "            </tr>\n",
       "            <tr>\n",
       "                        <th id=\"T_a1fee57a_df22_11e9_aa93_484d7eea204clevel0_row6\" class=\"row_heading level0 row6\" >Holden High School</th>\n",
       "                        <td id=\"T_a1fee57a_df22_11e9_aa93_484d7eea204crow6_col0\" class=\"data row6 col0\" >Charter</td>\n",
       "                        <td id=\"T_a1fee57a_df22_11e9_aa93_484d7eea204crow6_col1\" class=\"data row6 col1\" >427</td>\n",
       "                        <td id=\"T_a1fee57a_df22_11e9_aa93_484d7eea204crow6_col2\" class=\"data row6 col2\" >$248,087</td>\n",
       "                        <td id=\"T_a1fee57a_df22_11e9_aa93_484d7eea204crow6_col3\" class=\"data row6 col3\" >$581</td>\n",
       "                        <td id=\"T_a1fee57a_df22_11e9_aa93_484d7eea204crow6_col4\" class=\"data row6 col4\" >83.8</td>\n",
       "                        <td id=\"T_a1fee57a_df22_11e9_aa93_484d7eea204crow6_col5\" class=\"data row6 col5\" >83.8</td>\n",
       "                        <td id=\"T_a1fee57a_df22_11e9_aa93_484d7eea204crow6_col6\" class=\"data row6 col6\" >92.5%</td>\n",
       "                        <td id=\"T_a1fee57a_df22_11e9_aa93_484d7eea204crow6_col7\" class=\"data row6 col7\" >96.3%</td>\n",
       "                        <td id=\"T_a1fee57a_df22_11e9_aa93_484d7eea204crow6_col8\" class=\"data row6 col8\" >89.2%</td>\n",
       "            </tr>\n",
       "            <tr>\n",
       "                        <th id=\"T_a1fee57a_df22_11e9_aa93_484d7eea204clevel0_row7\" class=\"row_heading level0 row7\" >Huang High School</th>\n",
       "                        <td id=\"T_a1fee57a_df22_11e9_aa93_484d7eea204crow7_col0\" class=\"data row7 col0\" >District</td>\n",
       "                        <td id=\"T_a1fee57a_df22_11e9_aa93_484d7eea204crow7_col1\" class=\"data row7 col1\" >2,917</td>\n",
       "                        <td id=\"T_a1fee57a_df22_11e9_aa93_484d7eea204crow7_col2\" class=\"data row7 col2\" >$1,910,635</td>\n",
       "                        <td id=\"T_a1fee57a_df22_11e9_aa93_484d7eea204crow7_col3\" class=\"data row7 col3\" >$655</td>\n",
       "                        <td id=\"T_a1fee57a_df22_11e9_aa93_484d7eea204crow7_col4\" class=\"data row7 col4\" >76.6</td>\n",
       "                        <td id=\"T_a1fee57a_df22_11e9_aa93_484d7eea204crow7_col5\" class=\"data row7 col5\" >81.2</td>\n",
       "                        <td id=\"T_a1fee57a_df22_11e9_aa93_484d7eea204crow7_col6\" class=\"data row7 col6\" >65.7%</td>\n",
       "                        <td id=\"T_a1fee57a_df22_11e9_aa93_484d7eea204crow7_col7\" class=\"data row7 col7\" >81.3%</td>\n",
       "                        <td id=\"T_a1fee57a_df22_11e9_aa93_484d7eea204crow7_col8\" class=\"data row7 col8\" >53.5%</td>\n",
       "            </tr>\n",
       "            <tr>\n",
       "                        <th id=\"T_a1fee57a_df22_11e9_aa93_484d7eea204clevel0_row8\" class=\"row_heading level0 row8\" >Johnson High School</th>\n",
       "                        <td id=\"T_a1fee57a_df22_11e9_aa93_484d7eea204crow8_col0\" class=\"data row8 col0\" >District</td>\n",
       "                        <td id=\"T_a1fee57a_df22_11e9_aa93_484d7eea204crow8_col1\" class=\"data row8 col1\" >4,761</td>\n",
       "                        <td id=\"T_a1fee57a_df22_11e9_aa93_484d7eea204crow8_col2\" class=\"data row8 col2\" >$3,094,650</td>\n",
       "                        <td id=\"T_a1fee57a_df22_11e9_aa93_484d7eea204crow8_col3\" class=\"data row8 col3\" >$650</td>\n",
       "                        <td id=\"T_a1fee57a_df22_11e9_aa93_484d7eea204crow8_col4\" class=\"data row8 col4\" >77.1</td>\n",
       "                        <td id=\"T_a1fee57a_df22_11e9_aa93_484d7eea204crow8_col5\" class=\"data row8 col5\" >81.0</td>\n",
       "                        <td id=\"T_a1fee57a_df22_11e9_aa93_484d7eea204crow8_col6\" class=\"data row8 col6\" >66.1%</td>\n",
       "                        <td id=\"T_a1fee57a_df22_11e9_aa93_484d7eea204crow8_col7\" class=\"data row8 col7\" >81.2%</td>\n",
       "                        <td id=\"T_a1fee57a_df22_11e9_aa93_484d7eea204crow8_col8\" class=\"data row8 col8\" >53.5%</td>\n",
       "            </tr>\n",
       "            <tr>\n",
       "                        <th id=\"T_a1fee57a_df22_11e9_aa93_484d7eea204clevel0_row9\" class=\"row_heading level0 row9\" >Pena High School</th>\n",
       "                        <td id=\"T_a1fee57a_df22_11e9_aa93_484d7eea204crow9_col0\" class=\"data row9 col0\" >Charter</td>\n",
       "                        <td id=\"T_a1fee57a_df22_11e9_aa93_484d7eea204crow9_col1\" class=\"data row9 col1\" >962</td>\n",
       "                        <td id=\"T_a1fee57a_df22_11e9_aa93_484d7eea204crow9_col2\" class=\"data row9 col2\" >$585,858</td>\n",
       "                        <td id=\"T_a1fee57a_df22_11e9_aa93_484d7eea204crow9_col3\" class=\"data row9 col3\" >$609</td>\n",
       "                        <td id=\"T_a1fee57a_df22_11e9_aa93_484d7eea204crow9_col4\" class=\"data row9 col4\" >83.8</td>\n",
       "                        <td id=\"T_a1fee57a_df22_11e9_aa93_484d7eea204crow9_col5\" class=\"data row9 col5\" >84.0</td>\n",
       "                        <td id=\"T_a1fee57a_df22_11e9_aa93_484d7eea204crow9_col6\" class=\"data row9 col6\" >94.6%</td>\n",
       "                        <td id=\"T_a1fee57a_df22_11e9_aa93_484d7eea204crow9_col7\" class=\"data row9 col7\" >95.9%</td>\n",
       "                        <td id=\"T_a1fee57a_df22_11e9_aa93_484d7eea204crow9_col8\" class=\"data row9 col8\" >90.5%</td>\n",
       "            </tr>\n",
       "            <tr>\n",
       "                        <th id=\"T_a1fee57a_df22_11e9_aa93_484d7eea204clevel0_row10\" class=\"row_heading level0 row10\" >Rodriguez High School</th>\n",
       "                        <td id=\"T_a1fee57a_df22_11e9_aa93_484d7eea204crow10_col0\" class=\"data row10 col0\" >District</td>\n",
       "                        <td id=\"T_a1fee57a_df22_11e9_aa93_484d7eea204crow10_col1\" class=\"data row10 col1\" >3,999</td>\n",
       "                        <td id=\"T_a1fee57a_df22_11e9_aa93_484d7eea204crow10_col2\" class=\"data row10 col2\" >$2,547,363</td>\n",
       "                        <td id=\"T_a1fee57a_df22_11e9_aa93_484d7eea204crow10_col3\" class=\"data row10 col3\" >$637</td>\n",
       "                        <td id=\"T_a1fee57a_df22_11e9_aa93_484d7eea204crow10_col4\" class=\"data row10 col4\" >76.8</td>\n",
       "                        <td id=\"T_a1fee57a_df22_11e9_aa93_484d7eea204crow10_col5\" class=\"data row10 col5\" >80.7</td>\n",
       "                        <td id=\"T_a1fee57a_df22_11e9_aa93_484d7eea204crow10_col6\" class=\"data row10 col6\" >66.4%</td>\n",
       "                        <td id=\"T_a1fee57a_df22_11e9_aa93_484d7eea204crow10_col7\" class=\"data row10 col7\" >80.2%</td>\n",
       "                        <td id=\"T_a1fee57a_df22_11e9_aa93_484d7eea204crow10_col8\" class=\"data row10 col8\" >53.0%</td>\n",
       "            </tr>\n",
       "            <tr>\n",
       "                        <th id=\"T_a1fee57a_df22_11e9_aa93_484d7eea204clevel0_row11\" class=\"row_heading level0 row11\" >Shelton High School</th>\n",
       "                        <td id=\"T_a1fee57a_df22_11e9_aa93_484d7eea204crow11_col0\" class=\"data row11 col0\" >Charter</td>\n",
       "                        <td id=\"T_a1fee57a_df22_11e9_aa93_484d7eea204crow11_col1\" class=\"data row11 col1\" >1,761</td>\n",
       "                        <td id=\"T_a1fee57a_df22_11e9_aa93_484d7eea204crow11_col2\" class=\"data row11 col2\" >$1,056,600</td>\n",
       "                        <td id=\"T_a1fee57a_df22_11e9_aa93_484d7eea204crow11_col3\" class=\"data row11 col3\" >$600</td>\n",
       "                        <td id=\"T_a1fee57a_df22_11e9_aa93_484d7eea204crow11_col4\" class=\"data row11 col4\" >83.4</td>\n",
       "                        <td id=\"T_a1fee57a_df22_11e9_aa93_484d7eea204crow11_col5\" class=\"data row11 col5\" >83.7</td>\n",
       "                        <td id=\"T_a1fee57a_df22_11e9_aa93_484d7eea204crow11_col6\" class=\"data row11 col6\" >93.9%</td>\n",
       "                        <td id=\"T_a1fee57a_df22_11e9_aa93_484d7eea204crow11_col7\" class=\"data row11 col7\" >95.9%</td>\n",
       "                        <td id=\"T_a1fee57a_df22_11e9_aa93_484d7eea204crow11_col8\" class=\"data row11 col8\" >89.9%</td>\n",
       "            </tr>\n",
       "            <tr>\n",
       "                        <th id=\"T_a1fee57a_df22_11e9_aa93_484d7eea204clevel0_row12\" class=\"row_heading level0 row12\" >Thomas High School</th>\n",
       "                        <td id=\"T_a1fee57a_df22_11e9_aa93_484d7eea204crow12_col0\" class=\"data row12 col0\" >Charter</td>\n",
       "                        <td id=\"T_a1fee57a_df22_11e9_aa93_484d7eea204crow12_col1\" class=\"data row12 col1\" >1,635</td>\n",
       "                        <td id=\"T_a1fee57a_df22_11e9_aa93_484d7eea204crow12_col2\" class=\"data row12 col2\" >$1,043,130</td>\n",
       "                        <td id=\"T_a1fee57a_df22_11e9_aa93_484d7eea204crow12_col3\" class=\"data row12 col3\" >$638</td>\n",
       "                        <td id=\"T_a1fee57a_df22_11e9_aa93_484d7eea204crow12_col4\" class=\"data row12 col4\" >83.4</td>\n",
       "                        <td id=\"T_a1fee57a_df22_11e9_aa93_484d7eea204crow12_col5\" class=\"data row12 col5\" >83.8</td>\n",
       "                        <td id=\"T_a1fee57a_df22_11e9_aa93_484d7eea204crow12_col6\" class=\"data row12 col6\" >93.3%</td>\n",
       "                        <td id=\"T_a1fee57a_df22_11e9_aa93_484d7eea204crow12_col7\" class=\"data row12 col7\" >97.3%</td>\n",
       "                        <td id=\"T_a1fee57a_df22_11e9_aa93_484d7eea204crow12_col8\" class=\"data row12 col8\" >90.9%</td>\n",
       "            </tr>\n",
       "            <tr>\n",
       "                        <th id=\"T_a1fee57a_df22_11e9_aa93_484d7eea204clevel0_row13\" class=\"row_heading level0 row13\" >Wilson High School</th>\n",
       "                        <td id=\"T_a1fee57a_df22_11e9_aa93_484d7eea204crow13_col0\" class=\"data row13 col0\" >Charter</td>\n",
       "                        <td id=\"T_a1fee57a_df22_11e9_aa93_484d7eea204crow13_col1\" class=\"data row13 col1\" >2,283</td>\n",
       "                        <td id=\"T_a1fee57a_df22_11e9_aa93_484d7eea204crow13_col2\" class=\"data row13 col2\" >$1,319,574</td>\n",
       "                        <td id=\"T_a1fee57a_df22_11e9_aa93_484d7eea204crow13_col3\" class=\"data row13 col3\" >$578</td>\n",
       "                        <td id=\"T_a1fee57a_df22_11e9_aa93_484d7eea204crow13_col4\" class=\"data row13 col4\" >83.3</td>\n",
       "                        <td id=\"T_a1fee57a_df22_11e9_aa93_484d7eea204crow13_col5\" class=\"data row13 col5\" >84.0</td>\n",
       "                        <td id=\"T_a1fee57a_df22_11e9_aa93_484d7eea204crow13_col6\" class=\"data row13 col6\" >93.9%</td>\n",
       "                        <td id=\"T_a1fee57a_df22_11e9_aa93_484d7eea204crow13_col7\" class=\"data row13 col7\" >96.5%</td>\n",
       "                        <td id=\"T_a1fee57a_df22_11e9_aa93_484d7eea204crow13_col8\" class=\"data row13 col8\" >90.6%</td>\n",
       "            </tr>\n",
       "            <tr>\n",
       "                        <th id=\"T_a1fee57a_df22_11e9_aa93_484d7eea204clevel0_row14\" class=\"row_heading level0 row14\" >Wright High School</th>\n",
       "                        <td id=\"T_a1fee57a_df22_11e9_aa93_484d7eea204crow14_col0\" class=\"data row14 col0\" >Charter</td>\n",
       "                        <td id=\"T_a1fee57a_df22_11e9_aa93_484d7eea204crow14_col1\" class=\"data row14 col1\" >1,800</td>\n",
       "                        <td id=\"T_a1fee57a_df22_11e9_aa93_484d7eea204crow14_col2\" class=\"data row14 col2\" >$1,049,400</td>\n",
       "                        <td id=\"T_a1fee57a_df22_11e9_aa93_484d7eea204crow14_col3\" class=\"data row14 col3\" >$583</td>\n",
       "                        <td id=\"T_a1fee57a_df22_11e9_aa93_484d7eea204crow14_col4\" class=\"data row14 col4\" >83.7</td>\n",
       "                        <td id=\"T_a1fee57a_df22_11e9_aa93_484d7eea204crow14_col5\" class=\"data row14 col5\" >84.0</td>\n",
       "                        <td id=\"T_a1fee57a_df22_11e9_aa93_484d7eea204crow14_col6\" class=\"data row14 col6\" >93.3%</td>\n",
       "                        <td id=\"T_a1fee57a_df22_11e9_aa93_484d7eea204crow14_col7\" class=\"data row14 col7\" >96.6%</td>\n",
       "                        <td id=\"T_a1fee57a_df22_11e9_aa93_484d7eea204crow14_col8\" class=\"data row14 col8\" >90.3%</td>\n",
       "            </tr>\n",
       "    </tbody></table>"
      ],
      "text/plain": [
       "<pandas.io.formats.style.Styler at 0x15d03e82128>"
      ]
     },
     "execution_count": 81,
     "metadata": {},
     "output_type": "execute_result"
    }
   ],
   "source": [
    "sch_summary = pd.DataFrame({\n",
    "    \"School Type\": sch_types,\n",
    "    \"Total Students\": stu_per_sch,\n",
    "    \"Per Student Budget\": stu_budget,\n",
    "    \"Total School Budget\": sch_budget,\n",
    "    \"Average Math Score\": avg_math,\n",
    "    \"Average Reading Score\": avg_read,\n",
    "    '% Passing Math': pass_math,\n",
    "    '% Passing Reading': pass_read,\n",
    "    \"Overall Passing Rate\": overall})\n",
    "\n",
    "\n",
    "sch_summary = sch_summary[['School Type', \n",
    "                          'Total Students', \n",
    "                          'Total School Budget', \n",
    "                          'Per Student Budget', \n",
    "                          'Average Math Score', \n",
    "                          'Average Reading Score',\n",
    "                          '% Passing Math',\n",
    "                          '% Passing Reading',\n",
    "                          'Overall Passing Rate']]\n",
    "\n",
    "#formatting\n",
    "sch_summary.style.format({'Total Students': '{:,}', \n",
    "                          \"Total School Budget\": \"${:,}\", \n",
    "                          \"Per Student Budget\": \"${:.0f}\",\n",
    "                          'Average Math Score': \"{:.1f}\", \n",
    "                          'Average Reading Score': \"{:.1f}\", \n",
    "                          \"% Passing Math\": \"{:.1%}\", \n",
    "                          \"% Passing Reading\": \"{:.1%}\", \n",
    "                          \"Overall Passing Rate\": \"{:.1%}\"})"
   ]
  },
  {
   "cell_type": "markdown",
   "metadata": {},
   "source": [
    "## Top Performing Schools (By Passing Rate)"
   ]
  },
  {
   "cell_type": "markdown",
   "metadata": {},
   "source": [
    "* Sort and display the top five schools in overall passing rate"
   ]
  },
  {
   "cell_type": "code",
   "execution_count": 82,
   "metadata": {},
   "outputs": [
    {
     "data": {
      "text/html": [
       "<style  type=\"text/css\" >\n",
       "</style><table id=\"T_bb89c53e_df22_11e9_adb8_484d7eea204c\" ><thead>    <tr>        <th class=\"blank level0\" ></th>        <th class=\"col_heading level0 col0\" >School Type</th>        <th class=\"col_heading level0 col1\" >Total Students</th>        <th class=\"col_heading level0 col2\" >Total School Budget</th>        <th class=\"col_heading level0 col3\" >Per Student Budget</th>        <th class=\"col_heading level0 col4\" >Average Math Score</th>        <th class=\"col_heading level0 col5\" >Average Reading Score</th>        <th class=\"col_heading level0 col6\" >% Passing Math</th>        <th class=\"col_heading level0 col7\" >% Passing Reading</th>        <th class=\"col_heading level0 col8\" >Overall Passing Rate</th>    </tr></thead><tbody>\n",
       "                <tr>\n",
       "                        <th id=\"T_bb89c53e_df22_11e9_adb8_484d7eea204clevel0_row0\" class=\"row_heading level0 row0\" >Cabrera High School</th>\n",
       "                        <td id=\"T_bb89c53e_df22_11e9_adb8_484d7eea204crow0_col0\" class=\"data row0 col0\" >Charter</td>\n",
       "                        <td id=\"T_bb89c53e_df22_11e9_adb8_484d7eea204crow0_col1\" class=\"data row0 col1\" >1,858</td>\n",
       "                        <td id=\"T_bb89c53e_df22_11e9_adb8_484d7eea204crow0_col2\" class=\"data row0 col2\" >$1,081,356</td>\n",
       "                        <td id=\"T_bb89c53e_df22_11e9_adb8_484d7eea204crow0_col3\" class=\"data row0 col3\" >$582</td>\n",
       "                        <td id=\"T_bb89c53e_df22_11e9_adb8_484d7eea204crow0_col4\" class=\"data row0 col4\" >83.0619</td>\n",
       "                        <td id=\"T_bb89c53e_df22_11e9_adb8_484d7eea204crow0_col5\" class=\"data row0 col5\" >83.9758</td>\n",
       "                        <td id=\"T_bb89c53e_df22_11e9_adb8_484d7eea204crow0_col6\" class=\"data row0 col6\" >94.1%</td>\n",
       "                        <td id=\"T_bb89c53e_df22_11e9_adb8_484d7eea204crow0_col7\" class=\"data row0 col7\" >97.0%</td>\n",
       "                        <td id=\"T_bb89c53e_df22_11e9_adb8_484d7eea204crow0_col8\" class=\"data row0 col8\" >91.3%</td>\n",
       "            </tr>\n",
       "            <tr>\n",
       "                        <th id=\"T_bb89c53e_df22_11e9_adb8_484d7eea204clevel0_row1\" class=\"row_heading level0 row1\" >Thomas High School</th>\n",
       "                        <td id=\"T_bb89c53e_df22_11e9_adb8_484d7eea204crow1_col0\" class=\"data row1 col0\" >Charter</td>\n",
       "                        <td id=\"T_bb89c53e_df22_11e9_adb8_484d7eea204crow1_col1\" class=\"data row1 col1\" >1,635</td>\n",
       "                        <td id=\"T_bb89c53e_df22_11e9_adb8_484d7eea204crow1_col2\" class=\"data row1 col2\" >$1,043,130</td>\n",
       "                        <td id=\"T_bb89c53e_df22_11e9_adb8_484d7eea204crow1_col3\" class=\"data row1 col3\" >$638</td>\n",
       "                        <td id=\"T_bb89c53e_df22_11e9_adb8_484d7eea204crow1_col4\" class=\"data row1 col4\" >83.4183</td>\n",
       "                        <td id=\"T_bb89c53e_df22_11e9_adb8_484d7eea204crow1_col5\" class=\"data row1 col5\" >83.8489</td>\n",
       "                        <td id=\"T_bb89c53e_df22_11e9_adb8_484d7eea204crow1_col6\" class=\"data row1 col6\" >93.3%</td>\n",
       "                        <td id=\"T_bb89c53e_df22_11e9_adb8_484d7eea204crow1_col7\" class=\"data row1 col7\" >97.3%</td>\n",
       "                        <td id=\"T_bb89c53e_df22_11e9_adb8_484d7eea204crow1_col8\" class=\"data row1 col8\" >90.9%</td>\n",
       "            </tr>\n",
       "            <tr>\n",
       "                        <th id=\"T_bb89c53e_df22_11e9_adb8_484d7eea204clevel0_row2\" class=\"row_heading level0 row2\" >Griffin High School</th>\n",
       "                        <td id=\"T_bb89c53e_df22_11e9_adb8_484d7eea204crow2_col0\" class=\"data row2 col0\" >Charter</td>\n",
       "                        <td id=\"T_bb89c53e_df22_11e9_adb8_484d7eea204crow2_col1\" class=\"data row2 col1\" >1,468</td>\n",
       "                        <td id=\"T_bb89c53e_df22_11e9_adb8_484d7eea204crow2_col2\" class=\"data row2 col2\" >$917,500</td>\n",
       "                        <td id=\"T_bb89c53e_df22_11e9_adb8_484d7eea204crow2_col3\" class=\"data row2 col3\" >$625</td>\n",
       "                        <td id=\"T_bb89c53e_df22_11e9_adb8_484d7eea204crow2_col4\" class=\"data row2 col4\" >83.3515</td>\n",
       "                        <td id=\"T_bb89c53e_df22_11e9_adb8_484d7eea204crow2_col5\" class=\"data row2 col5\" >83.8168</td>\n",
       "                        <td id=\"T_bb89c53e_df22_11e9_adb8_484d7eea204crow2_col6\" class=\"data row2 col6\" >93.4%</td>\n",
       "                        <td id=\"T_bb89c53e_df22_11e9_adb8_484d7eea204crow2_col7\" class=\"data row2 col7\" >97.1%</td>\n",
       "                        <td id=\"T_bb89c53e_df22_11e9_adb8_484d7eea204crow2_col8\" class=\"data row2 col8\" >90.6%</td>\n",
       "            </tr>\n",
       "            <tr>\n",
       "                        <th id=\"T_bb89c53e_df22_11e9_adb8_484d7eea204clevel0_row3\" class=\"row_heading level0 row3\" >Wilson High School</th>\n",
       "                        <td id=\"T_bb89c53e_df22_11e9_adb8_484d7eea204crow3_col0\" class=\"data row3 col0\" >Charter</td>\n",
       "                        <td id=\"T_bb89c53e_df22_11e9_adb8_484d7eea204crow3_col1\" class=\"data row3 col1\" >2,283</td>\n",
       "                        <td id=\"T_bb89c53e_df22_11e9_adb8_484d7eea204crow3_col2\" class=\"data row3 col2\" >$1,319,574</td>\n",
       "                        <td id=\"T_bb89c53e_df22_11e9_adb8_484d7eea204crow3_col3\" class=\"data row3 col3\" >$578</td>\n",
       "                        <td id=\"T_bb89c53e_df22_11e9_adb8_484d7eea204crow3_col4\" class=\"data row3 col4\" >83.2742</td>\n",
       "                        <td id=\"T_bb89c53e_df22_11e9_adb8_484d7eea204crow3_col5\" class=\"data row3 col5\" >83.9895</td>\n",
       "                        <td id=\"T_bb89c53e_df22_11e9_adb8_484d7eea204crow3_col6\" class=\"data row3 col6\" >93.9%</td>\n",
       "                        <td id=\"T_bb89c53e_df22_11e9_adb8_484d7eea204crow3_col7\" class=\"data row3 col7\" >96.5%</td>\n",
       "                        <td id=\"T_bb89c53e_df22_11e9_adb8_484d7eea204crow3_col8\" class=\"data row3 col8\" >90.6%</td>\n",
       "            </tr>\n",
       "            <tr>\n",
       "                        <th id=\"T_bb89c53e_df22_11e9_adb8_484d7eea204clevel0_row4\" class=\"row_heading level0 row4\" >Pena High School</th>\n",
       "                        <td id=\"T_bb89c53e_df22_11e9_adb8_484d7eea204crow4_col0\" class=\"data row4 col0\" >Charter</td>\n",
       "                        <td id=\"T_bb89c53e_df22_11e9_adb8_484d7eea204crow4_col1\" class=\"data row4 col1\" >962</td>\n",
       "                        <td id=\"T_bb89c53e_df22_11e9_adb8_484d7eea204crow4_col2\" class=\"data row4 col2\" >$585,858</td>\n",
       "                        <td id=\"T_bb89c53e_df22_11e9_adb8_484d7eea204crow4_col3\" class=\"data row4 col3\" >$609</td>\n",
       "                        <td id=\"T_bb89c53e_df22_11e9_adb8_484d7eea204crow4_col4\" class=\"data row4 col4\" >83.8399</td>\n",
       "                        <td id=\"T_bb89c53e_df22_11e9_adb8_484d7eea204crow4_col5\" class=\"data row4 col5\" >84.0447</td>\n",
       "                        <td id=\"T_bb89c53e_df22_11e9_adb8_484d7eea204crow4_col6\" class=\"data row4 col6\" >94.6%</td>\n",
       "                        <td id=\"T_bb89c53e_df22_11e9_adb8_484d7eea204crow4_col7\" class=\"data row4 col7\" >95.9%</td>\n",
       "                        <td id=\"T_bb89c53e_df22_11e9_adb8_484d7eea204crow4_col8\" class=\"data row4 col8\" >90.5%</td>\n",
       "            </tr>\n",
       "    </tbody></table>"
      ],
      "text/plain": [
       "<pandas.io.formats.style.Styler at 0x15d035cf438>"
      ]
     },
     "execution_count": 82,
     "metadata": {},
     "output_type": "execute_result"
    }
   ],
   "source": [
    "top_5 = sch_summary.sort_values(\"Overall Passing Rate\", ascending = False)\n",
    "top_5.head().style.format({'Total Students': '{:,}',\n",
    "                           \"Total School Budget\": \"${:,}\", \n",
    "                           \"Per Student Budget\": \"${:.0f}\", \n",
    "                           \"% Passing Math\": \"{:.1%}\", \n",
    "                           \"% Passing Reading\": \"{:.1%}\", \n",
    "                           \"Overall Passing Rate\": \"{:.1%}\"})"
   ]
  },
  {
   "cell_type": "markdown",
   "metadata": {},
   "source": [
    "## Bottom Performing Schools (By Passing Rate)"
   ]
  },
  {
   "cell_type": "markdown",
   "metadata": {},
   "source": [
    "* Sort and display the five worst-performing schools"
   ]
  },
  {
   "cell_type": "code",
   "execution_count": 83,
   "metadata": {},
   "outputs": [
    {
     "data": {
      "text/html": [
       "<style  type=\"text/css\" >\n",
       "</style><table id=\"T_c2dee9b6_df22_11e9_8b4d_484d7eea204c\" ><thead>    <tr>        <th class=\"blank level0\" ></th>        <th class=\"col_heading level0 col0\" >School Type</th>        <th class=\"col_heading level0 col1\" >Total Students</th>        <th class=\"col_heading level0 col2\" >Total School Budget</th>        <th class=\"col_heading level0 col3\" >Per Student Budget</th>        <th class=\"col_heading level0 col4\" >Average Math Score</th>        <th class=\"col_heading level0 col5\" >Average Reading Score</th>        <th class=\"col_heading level0 col6\" >% Passing Math</th>        <th class=\"col_heading level0 col7\" >% Passing Reading</th>        <th class=\"col_heading level0 col8\" >Overall Passing Rate</th>    </tr></thead><tbody>\n",
       "                <tr>\n",
       "                        <th id=\"T_c2dee9b6_df22_11e9_8b4d_484d7eea204clevel0_row0\" class=\"row_heading level0 row0\" >Rodriguez High School</th>\n",
       "                        <td id=\"T_c2dee9b6_df22_11e9_8b4d_484d7eea204crow0_col0\" class=\"data row0 col0\" >District</td>\n",
       "                        <td id=\"T_c2dee9b6_df22_11e9_8b4d_484d7eea204crow0_col1\" class=\"data row0 col1\" >3,999</td>\n",
       "                        <td id=\"T_c2dee9b6_df22_11e9_8b4d_484d7eea204crow0_col2\" class=\"data row0 col2\" >$2,547,363</td>\n",
       "                        <td id=\"T_c2dee9b6_df22_11e9_8b4d_484d7eea204crow0_col3\" class=\"data row0 col3\" >$637</td>\n",
       "                        <td id=\"T_c2dee9b6_df22_11e9_8b4d_484d7eea204crow0_col4\" class=\"data row0 col4\" >76.8427</td>\n",
       "                        <td id=\"T_c2dee9b6_df22_11e9_8b4d_484d7eea204crow0_col5\" class=\"data row0 col5\" >80.7447</td>\n",
       "                        <td id=\"T_c2dee9b6_df22_11e9_8b4d_484d7eea204crow0_col6\" class=\"data row0 col6\" >66.4%</td>\n",
       "                        <td id=\"T_c2dee9b6_df22_11e9_8b4d_484d7eea204crow0_col7\" class=\"data row0 col7\" >80.2%</td>\n",
       "                        <td id=\"T_c2dee9b6_df22_11e9_8b4d_484d7eea204crow0_col8\" class=\"data row0 col8\" >53.0%</td>\n",
       "            </tr>\n",
       "            <tr>\n",
       "                        <th id=\"T_c2dee9b6_df22_11e9_8b4d_484d7eea204clevel0_row1\" class=\"row_heading level0 row1\" >Figueroa High School</th>\n",
       "                        <td id=\"T_c2dee9b6_df22_11e9_8b4d_484d7eea204crow1_col0\" class=\"data row1 col0\" >District</td>\n",
       "                        <td id=\"T_c2dee9b6_df22_11e9_8b4d_484d7eea204crow1_col1\" class=\"data row1 col1\" >2,949</td>\n",
       "                        <td id=\"T_c2dee9b6_df22_11e9_8b4d_484d7eea204crow1_col2\" class=\"data row1 col2\" >$1,884,411</td>\n",
       "                        <td id=\"T_c2dee9b6_df22_11e9_8b4d_484d7eea204crow1_col3\" class=\"data row1 col3\" >$639</td>\n",
       "                        <td id=\"T_c2dee9b6_df22_11e9_8b4d_484d7eea204crow1_col4\" class=\"data row1 col4\" >76.7118</td>\n",
       "                        <td id=\"T_c2dee9b6_df22_11e9_8b4d_484d7eea204crow1_col5\" class=\"data row1 col5\" >81.158</td>\n",
       "                        <td id=\"T_c2dee9b6_df22_11e9_8b4d_484d7eea204crow1_col6\" class=\"data row1 col6\" >66.0%</td>\n",
       "                        <td id=\"T_c2dee9b6_df22_11e9_8b4d_484d7eea204crow1_col7\" class=\"data row1 col7\" >80.7%</td>\n",
       "                        <td id=\"T_c2dee9b6_df22_11e9_8b4d_484d7eea204crow1_col8\" class=\"data row1 col8\" >53.2%</td>\n",
       "            </tr>\n",
       "            <tr>\n",
       "                        <th id=\"T_c2dee9b6_df22_11e9_8b4d_484d7eea204clevel0_row2\" class=\"row_heading level0 row2\" >Huang High School</th>\n",
       "                        <td id=\"T_c2dee9b6_df22_11e9_8b4d_484d7eea204crow2_col0\" class=\"data row2 col0\" >District</td>\n",
       "                        <td id=\"T_c2dee9b6_df22_11e9_8b4d_484d7eea204crow2_col1\" class=\"data row2 col1\" >2,917</td>\n",
       "                        <td id=\"T_c2dee9b6_df22_11e9_8b4d_484d7eea204crow2_col2\" class=\"data row2 col2\" >$1,910,635</td>\n",
       "                        <td id=\"T_c2dee9b6_df22_11e9_8b4d_484d7eea204crow2_col3\" class=\"data row2 col3\" >$655</td>\n",
       "                        <td id=\"T_c2dee9b6_df22_11e9_8b4d_484d7eea204crow2_col4\" class=\"data row2 col4\" >76.6294</td>\n",
       "                        <td id=\"T_c2dee9b6_df22_11e9_8b4d_484d7eea204crow2_col5\" class=\"data row2 col5\" >81.1827</td>\n",
       "                        <td id=\"T_c2dee9b6_df22_11e9_8b4d_484d7eea204crow2_col6\" class=\"data row2 col6\" >65.7%</td>\n",
       "                        <td id=\"T_c2dee9b6_df22_11e9_8b4d_484d7eea204crow2_col7\" class=\"data row2 col7\" >81.3%</td>\n",
       "                        <td id=\"T_c2dee9b6_df22_11e9_8b4d_484d7eea204crow2_col8\" class=\"data row2 col8\" >53.5%</td>\n",
       "            </tr>\n",
       "            <tr>\n",
       "                        <th id=\"T_c2dee9b6_df22_11e9_8b4d_484d7eea204clevel0_row3\" class=\"row_heading level0 row3\" >Hernandez High School</th>\n",
       "                        <td id=\"T_c2dee9b6_df22_11e9_8b4d_484d7eea204crow3_col0\" class=\"data row3 col0\" >District</td>\n",
       "                        <td id=\"T_c2dee9b6_df22_11e9_8b4d_484d7eea204crow3_col1\" class=\"data row3 col1\" >4,635</td>\n",
       "                        <td id=\"T_c2dee9b6_df22_11e9_8b4d_484d7eea204crow3_col2\" class=\"data row3 col2\" >$3,022,020</td>\n",
       "                        <td id=\"T_c2dee9b6_df22_11e9_8b4d_484d7eea204crow3_col3\" class=\"data row3 col3\" >$652</td>\n",
       "                        <td id=\"T_c2dee9b6_df22_11e9_8b4d_484d7eea204crow3_col4\" class=\"data row3 col4\" >77.2898</td>\n",
       "                        <td id=\"T_c2dee9b6_df22_11e9_8b4d_484d7eea204crow3_col5\" class=\"data row3 col5\" >80.9344</td>\n",
       "                        <td id=\"T_c2dee9b6_df22_11e9_8b4d_484d7eea204crow3_col6\" class=\"data row3 col6\" >66.8%</td>\n",
       "                        <td id=\"T_c2dee9b6_df22_11e9_8b4d_484d7eea204crow3_col7\" class=\"data row3 col7\" >80.9%</td>\n",
       "                        <td id=\"T_c2dee9b6_df22_11e9_8b4d_484d7eea204crow3_col8\" class=\"data row3 col8\" >53.5%</td>\n",
       "            </tr>\n",
       "            <tr>\n",
       "                        <th id=\"T_c2dee9b6_df22_11e9_8b4d_484d7eea204clevel0_row4\" class=\"row_heading level0 row4\" >Johnson High School</th>\n",
       "                        <td id=\"T_c2dee9b6_df22_11e9_8b4d_484d7eea204crow4_col0\" class=\"data row4 col0\" >District</td>\n",
       "                        <td id=\"T_c2dee9b6_df22_11e9_8b4d_484d7eea204crow4_col1\" class=\"data row4 col1\" >4,761</td>\n",
       "                        <td id=\"T_c2dee9b6_df22_11e9_8b4d_484d7eea204crow4_col2\" class=\"data row4 col2\" >$3,094,650</td>\n",
       "                        <td id=\"T_c2dee9b6_df22_11e9_8b4d_484d7eea204crow4_col3\" class=\"data row4 col3\" >$650</td>\n",
       "                        <td id=\"T_c2dee9b6_df22_11e9_8b4d_484d7eea204crow4_col4\" class=\"data row4 col4\" >77.0725</td>\n",
       "                        <td id=\"T_c2dee9b6_df22_11e9_8b4d_484d7eea204crow4_col5\" class=\"data row4 col5\" >80.9664</td>\n",
       "                        <td id=\"T_c2dee9b6_df22_11e9_8b4d_484d7eea204crow4_col6\" class=\"data row4 col6\" >66.1%</td>\n",
       "                        <td id=\"T_c2dee9b6_df22_11e9_8b4d_484d7eea204crow4_col7\" class=\"data row4 col7\" >81.2%</td>\n",
       "                        <td id=\"T_c2dee9b6_df22_11e9_8b4d_484d7eea204crow4_col8\" class=\"data row4 col8\" >53.5%</td>\n",
       "            </tr>\n",
       "    </tbody></table>"
      ],
      "text/plain": [
       "<pandas.io.formats.style.Styler at 0x15d035cfe10>"
      ]
     },
     "execution_count": 83,
     "metadata": {},
     "output_type": "execute_result"
    }
   ],
   "source": [
    "bottom_5 = top_5.tail()\n",
    "bottom_5 = bottom_5.sort_values('Overall Passing Rate')\n",
    "bottom_5.style.format({'Total Students': '{:,}', \n",
    "                       \"Total School Budget\": \"${:,}\", \n",
    "                       \"Per Student Budget\": \"${:.0f}\", \n",
    "                       \"% Passing Math\": \"{:.1%}\", \n",
    "                       \"% Passing Reading\": \"{:.1%}\", \n",
    "                       \"Overall Passing Rate\": \"{:.1%}\"})"
   ]
  },
  {
   "cell_type": "markdown",
   "metadata": {
    "collapsed": true
   },
   "source": [
    "## Math Scores by Grade"
   ]
  },
  {
   "cell_type": "markdown",
   "metadata": {},
   "source": [
    "* Create a table that lists the average Reading Score for students of each grade level (9th, 10th, 11th, 12th) at each school.\n",
    "\n",
    "  * Create a pandas series for each grade. Hint: use a conditional statement.\n",
    "  \n",
    "  * Group each series by school\n",
    "  \n",
    "  * Combine the series into a dataframe\n",
    "  \n",
    "  * Optional: give the displayed data cleaner formatting"
   ]
  },
  {
   "cell_type": "code",
   "execution_count": 84,
   "metadata": {},
   "outputs": [],
   "source": [
    "ninth_math = student_data.loc[students_df['grade'] == '9th'].groupby('school_name')[\"math_score\"].mean()\n",
    "tenth_math = student_data.loc[students_df['grade'] == '10th'].groupby('school_name')[\"math_score\"].mean()\n",
    "eleventh_math = student_data.loc[students_df['grade'] == '11th'].groupby('school_name')[\"math_score\"].mean()\n",
    "twelfth_math = student_data.loc[students_df['grade'] == '12th'].groupby('school_name')[\"math_score\"].mean()"
   ]
  },
  {
   "cell_type": "code",
   "execution_count": 86,
   "metadata": {},
   "outputs": [],
   "source": [
    "math_scores = pd.DataFrame({\n",
    "        \"9th\": ninth_math,\n",
    "        \"10th\": tenth_math,\n",
    "        \"11th\": eleventh_math,\n",
    "        \"12th\": twelfth_math})"
   ]
  },
  {
   "cell_type": "code",
   "execution_count": 87,
   "metadata": {},
   "outputs": [],
   "source": [
    "math_scores = math_scores[['9th', '10th', '11th', '12th']]\n",
    "math_scores.index.name = \"School\""
   ]
  },
  {
   "cell_type": "code",
   "execution_count": 88,
   "metadata": {},
   "outputs": [
    {
     "data": {
      "text/html": [
       "<style  type=\"text/css\" >\n",
       "</style><table id=\"T_0253eee6_df23_11e9_924f_484d7eea204c\" ><thead>    <tr>        <th class=\"blank level0\" ></th>        <th class=\"col_heading level0 col0\" >9th</th>        <th class=\"col_heading level0 col1\" >10th</th>        <th class=\"col_heading level0 col2\" >11th</th>        <th class=\"col_heading level0 col3\" >12th</th>    </tr>    <tr>        <th class=\"index_name level0\" >School</th>        <th class=\"blank\" ></th>        <th class=\"blank\" ></th>        <th class=\"blank\" ></th>        <th class=\"blank\" ></th>    </tr></thead><tbody>\n",
       "                <tr>\n",
       "                        <th id=\"T_0253eee6_df23_11e9_924f_484d7eea204clevel0_row0\" class=\"row_heading level0 row0\" >Bailey High School</th>\n",
       "                        <td id=\"T_0253eee6_df23_11e9_924f_484d7eea204crow0_col0\" class=\"data row0 col0\" >77.1</td>\n",
       "                        <td id=\"T_0253eee6_df23_11e9_924f_484d7eea204crow0_col1\" class=\"data row0 col1\" >77.0</td>\n",
       "                        <td id=\"T_0253eee6_df23_11e9_924f_484d7eea204crow0_col2\" class=\"data row0 col2\" >77.5</td>\n",
       "                        <td id=\"T_0253eee6_df23_11e9_924f_484d7eea204crow0_col3\" class=\"data row0 col3\" >76.5</td>\n",
       "            </tr>\n",
       "            <tr>\n",
       "                        <th id=\"T_0253eee6_df23_11e9_924f_484d7eea204clevel0_row1\" class=\"row_heading level0 row1\" >Cabrera High School</th>\n",
       "                        <td id=\"T_0253eee6_df23_11e9_924f_484d7eea204crow1_col0\" class=\"data row1 col0\" >83.1</td>\n",
       "                        <td id=\"T_0253eee6_df23_11e9_924f_484d7eea204crow1_col1\" class=\"data row1 col1\" >83.2</td>\n",
       "                        <td id=\"T_0253eee6_df23_11e9_924f_484d7eea204crow1_col2\" class=\"data row1 col2\" >82.8</td>\n",
       "                        <td id=\"T_0253eee6_df23_11e9_924f_484d7eea204crow1_col3\" class=\"data row1 col3\" >83.3</td>\n",
       "            </tr>\n",
       "            <tr>\n",
       "                        <th id=\"T_0253eee6_df23_11e9_924f_484d7eea204clevel0_row2\" class=\"row_heading level0 row2\" >Figueroa High School</th>\n",
       "                        <td id=\"T_0253eee6_df23_11e9_924f_484d7eea204crow2_col0\" class=\"data row2 col0\" >76.4</td>\n",
       "                        <td id=\"T_0253eee6_df23_11e9_924f_484d7eea204crow2_col1\" class=\"data row2 col1\" >76.5</td>\n",
       "                        <td id=\"T_0253eee6_df23_11e9_924f_484d7eea204crow2_col2\" class=\"data row2 col2\" >76.9</td>\n",
       "                        <td id=\"T_0253eee6_df23_11e9_924f_484d7eea204crow2_col3\" class=\"data row2 col3\" >77.2</td>\n",
       "            </tr>\n",
       "            <tr>\n",
       "                        <th id=\"T_0253eee6_df23_11e9_924f_484d7eea204clevel0_row3\" class=\"row_heading level0 row3\" >Ford High School</th>\n",
       "                        <td id=\"T_0253eee6_df23_11e9_924f_484d7eea204crow3_col0\" class=\"data row3 col0\" >77.4</td>\n",
       "                        <td id=\"T_0253eee6_df23_11e9_924f_484d7eea204crow3_col1\" class=\"data row3 col1\" >77.7</td>\n",
       "                        <td id=\"T_0253eee6_df23_11e9_924f_484d7eea204crow3_col2\" class=\"data row3 col2\" >76.9</td>\n",
       "                        <td id=\"T_0253eee6_df23_11e9_924f_484d7eea204crow3_col3\" class=\"data row3 col3\" >76.2</td>\n",
       "            </tr>\n",
       "            <tr>\n",
       "                        <th id=\"T_0253eee6_df23_11e9_924f_484d7eea204clevel0_row4\" class=\"row_heading level0 row4\" >Griffin High School</th>\n",
       "                        <td id=\"T_0253eee6_df23_11e9_924f_484d7eea204crow4_col0\" class=\"data row4 col0\" >82.0</td>\n",
       "                        <td id=\"T_0253eee6_df23_11e9_924f_484d7eea204crow4_col1\" class=\"data row4 col1\" >84.2</td>\n",
       "                        <td id=\"T_0253eee6_df23_11e9_924f_484d7eea204crow4_col2\" class=\"data row4 col2\" >83.8</td>\n",
       "                        <td id=\"T_0253eee6_df23_11e9_924f_484d7eea204crow4_col3\" class=\"data row4 col3\" >83.4</td>\n",
       "            </tr>\n",
       "            <tr>\n",
       "                        <th id=\"T_0253eee6_df23_11e9_924f_484d7eea204clevel0_row5\" class=\"row_heading level0 row5\" >Hernandez High School</th>\n",
       "                        <td id=\"T_0253eee6_df23_11e9_924f_484d7eea204crow5_col0\" class=\"data row5 col0\" >77.4</td>\n",
       "                        <td id=\"T_0253eee6_df23_11e9_924f_484d7eea204crow5_col1\" class=\"data row5 col1\" >77.3</td>\n",
       "                        <td id=\"T_0253eee6_df23_11e9_924f_484d7eea204crow5_col2\" class=\"data row5 col2\" >77.1</td>\n",
       "                        <td id=\"T_0253eee6_df23_11e9_924f_484d7eea204crow5_col3\" class=\"data row5 col3\" >77.2</td>\n",
       "            </tr>\n",
       "            <tr>\n",
       "                        <th id=\"T_0253eee6_df23_11e9_924f_484d7eea204clevel0_row6\" class=\"row_heading level0 row6\" >Holden High School</th>\n",
       "                        <td id=\"T_0253eee6_df23_11e9_924f_484d7eea204crow6_col0\" class=\"data row6 col0\" >83.8</td>\n",
       "                        <td id=\"T_0253eee6_df23_11e9_924f_484d7eea204crow6_col1\" class=\"data row6 col1\" >83.4</td>\n",
       "                        <td id=\"T_0253eee6_df23_11e9_924f_484d7eea204crow6_col2\" class=\"data row6 col2\" >85.0</td>\n",
       "                        <td id=\"T_0253eee6_df23_11e9_924f_484d7eea204crow6_col3\" class=\"data row6 col3\" >82.9</td>\n",
       "            </tr>\n",
       "            <tr>\n",
       "                        <th id=\"T_0253eee6_df23_11e9_924f_484d7eea204clevel0_row7\" class=\"row_heading level0 row7\" >Huang High School</th>\n",
       "                        <td id=\"T_0253eee6_df23_11e9_924f_484d7eea204crow7_col0\" class=\"data row7 col0\" >77.0</td>\n",
       "                        <td id=\"T_0253eee6_df23_11e9_924f_484d7eea204crow7_col1\" class=\"data row7 col1\" >75.9</td>\n",
       "                        <td id=\"T_0253eee6_df23_11e9_924f_484d7eea204crow7_col2\" class=\"data row7 col2\" >76.4</td>\n",
       "                        <td id=\"T_0253eee6_df23_11e9_924f_484d7eea204crow7_col3\" class=\"data row7 col3\" >77.2</td>\n",
       "            </tr>\n",
       "            <tr>\n",
       "                        <th id=\"T_0253eee6_df23_11e9_924f_484d7eea204clevel0_row8\" class=\"row_heading level0 row8\" >Johnson High School</th>\n",
       "                        <td id=\"T_0253eee6_df23_11e9_924f_484d7eea204crow8_col0\" class=\"data row8 col0\" >77.2</td>\n",
       "                        <td id=\"T_0253eee6_df23_11e9_924f_484d7eea204crow8_col1\" class=\"data row8 col1\" >76.7</td>\n",
       "                        <td id=\"T_0253eee6_df23_11e9_924f_484d7eea204crow8_col2\" class=\"data row8 col2\" >77.5</td>\n",
       "                        <td id=\"T_0253eee6_df23_11e9_924f_484d7eea204crow8_col3\" class=\"data row8 col3\" >76.9</td>\n",
       "            </tr>\n",
       "            <tr>\n",
       "                        <th id=\"T_0253eee6_df23_11e9_924f_484d7eea204clevel0_row9\" class=\"row_heading level0 row9\" >Pena High School</th>\n",
       "                        <td id=\"T_0253eee6_df23_11e9_924f_484d7eea204crow9_col0\" class=\"data row9 col0\" >83.6</td>\n",
       "                        <td id=\"T_0253eee6_df23_11e9_924f_484d7eea204crow9_col1\" class=\"data row9 col1\" >83.4</td>\n",
       "                        <td id=\"T_0253eee6_df23_11e9_924f_484d7eea204crow9_col2\" class=\"data row9 col2\" >84.3</td>\n",
       "                        <td id=\"T_0253eee6_df23_11e9_924f_484d7eea204crow9_col3\" class=\"data row9 col3\" >84.1</td>\n",
       "            </tr>\n",
       "            <tr>\n",
       "                        <th id=\"T_0253eee6_df23_11e9_924f_484d7eea204clevel0_row10\" class=\"row_heading level0 row10\" >Rodriguez High School</th>\n",
       "                        <td id=\"T_0253eee6_df23_11e9_924f_484d7eea204crow10_col0\" class=\"data row10 col0\" >76.9</td>\n",
       "                        <td id=\"T_0253eee6_df23_11e9_924f_484d7eea204crow10_col1\" class=\"data row10 col1\" >76.6</td>\n",
       "                        <td id=\"T_0253eee6_df23_11e9_924f_484d7eea204crow10_col2\" class=\"data row10 col2\" >76.4</td>\n",
       "                        <td id=\"T_0253eee6_df23_11e9_924f_484d7eea204crow10_col3\" class=\"data row10 col3\" >77.7</td>\n",
       "            </tr>\n",
       "            <tr>\n",
       "                        <th id=\"T_0253eee6_df23_11e9_924f_484d7eea204clevel0_row11\" class=\"row_heading level0 row11\" >Shelton High School</th>\n",
       "                        <td id=\"T_0253eee6_df23_11e9_924f_484d7eea204crow11_col0\" class=\"data row11 col0\" >83.4</td>\n",
       "                        <td id=\"T_0253eee6_df23_11e9_924f_484d7eea204crow11_col1\" class=\"data row11 col1\" >82.9</td>\n",
       "                        <td id=\"T_0253eee6_df23_11e9_924f_484d7eea204crow11_col2\" class=\"data row11 col2\" >83.4</td>\n",
       "                        <td id=\"T_0253eee6_df23_11e9_924f_484d7eea204crow11_col3\" class=\"data row11 col3\" >83.8</td>\n",
       "            </tr>\n",
       "            <tr>\n",
       "                        <th id=\"T_0253eee6_df23_11e9_924f_484d7eea204clevel0_row12\" class=\"row_heading level0 row12\" >Thomas High School</th>\n",
       "                        <td id=\"T_0253eee6_df23_11e9_924f_484d7eea204crow12_col0\" class=\"data row12 col0\" >83.6</td>\n",
       "                        <td id=\"T_0253eee6_df23_11e9_924f_484d7eea204crow12_col1\" class=\"data row12 col1\" >83.1</td>\n",
       "                        <td id=\"T_0253eee6_df23_11e9_924f_484d7eea204crow12_col2\" class=\"data row12 col2\" >83.5</td>\n",
       "                        <td id=\"T_0253eee6_df23_11e9_924f_484d7eea204crow12_col3\" class=\"data row12 col3\" >83.5</td>\n",
       "            </tr>\n",
       "            <tr>\n",
       "                        <th id=\"T_0253eee6_df23_11e9_924f_484d7eea204clevel0_row13\" class=\"row_heading level0 row13\" >Wilson High School</th>\n",
       "                        <td id=\"T_0253eee6_df23_11e9_924f_484d7eea204crow13_col0\" class=\"data row13 col0\" >83.1</td>\n",
       "                        <td id=\"T_0253eee6_df23_11e9_924f_484d7eea204crow13_col1\" class=\"data row13 col1\" >83.7</td>\n",
       "                        <td id=\"T_0253eee6_df23_11e9_924f_484d7eea204crow13_col2\" class=\"data row13 col2\" >83.2</td>\n",
       "                        <td id=\"T_0253eee6_df23_11e9_924f_484d7eea204crow13_col3\" class=\"data row13 col3\" >83.0</td>\n",
       "            </tr>\n",
       "            <tr>\n",
       "                        <th id=\"T_0253eee6_df23_11e9_924f_484d7eea204clevel0_row14\" class=\"row_heading level0 row14\" >Wright High School</th>\n",
       "                        <td id=\"T_0253eee6_df23_11e9_924f_484d7eea204crow14_col0\" class=\"data row14 col0\" >83.3</td>\n",
       "                        <td id=\"T_0253eee6_df23_11e9_924f_484d7eea204crow14_col1\" class=\"data row14 col1\" >84.0</td>\n",
       "                        <td id=\"T_0253eee6_df23_11e9_924f_484d7eea204crow14_col2\" class=\"data row14 col2\" >83.8</td>\n",
       "                        <td id=\"T_0253eee6_df23_11e9_924f_484d7eea204crow14_col3\" class=\"data row14 col3\" >83.6</td>\n",
       "            </tr>\n",
       "    </tbody></table>"
      ],
      "text/plain": [
       "<pandas.io.formats.style.Styler at 0x15d03614b38>"
      ]
     },
     "execution_count": 88,
     "metadata": {},
     "output_type": "execute_result"
    }
   ],
   "source": [
    "math_scores.style.format({'9th': '{:.1f}', \n",
    "                          \"10th\": '{:.1f}', \n",
    "                          \"11th\": \"{:.1f}\", \n",
    "                          \"12th\": \"{:.1f}\"})"
   ]
  },
  {
   "cell_type": "markdown",
   "metadata": {},
   "source": [
    "## Reading Score by Grade "
   ]
  },
  {
   "cell_type": "markdown",
   "metadata": {},
   "source": [
    "* Perform the same operations as above for reading scores"
   ]
  },
  {
   "cell_type": "code",
   "execution_count": 89,
   "metadata": {},
   "outputs": [],
   "source": [
    "ninth_reading = student_data.loc[students_df['grade'] == '9th'].groupby('school_name')[\"reading_score\"].mean()\n",
    "tenth_reading = student_data.loc[students_df['grade'] == '10th'].groupby('school_name')[\"reading_score\"].mean()\n",
    "eleventh_reading = student_data.loc[students_df['grade'] == '11th'].groupby('school_name')[\"reading_score\"].mean()\n",
    "twelfth_reading = student_data.loc[students_df['grade'] == '12th'].groupby('school_name')[\"reading_score\"].mean()"
   ]
  },
  {
   "cell_type": "code",
   "execution_count": 90,
   "metadata": {},
   "outputs": [],
   "source": [
    "reading_scores = pd.DataFrame({\n",
    "        \"9th\": ninth_reading,\n",
    "        \"10th\": tenth_reading,\n",
    "        \"11th\": eleventh_reading,\n",
    "        \"12th\": twelfth_reading})"
   ]
  },
  {
   "cell_type": "code",
   "execution_count": 91,
   "metadata": {},
   "outputs": [],
   "source": [
    "reading_scores = reading_scores[['9th', '10th', '11th', '12th']]\n",
    "reading_scores.index.name = \"School\""
   ]
  },
  {
   "cell_type": "code",
   "execution_count": 92,
   "metadata": {},
   "outputs": [
    {
     "data": {
      "text/html": [
       "<style  type=\"text/css\" >\n",
       "</style><table id=\"T_3cc14648_df23_11e9_95cf_484d7eea204c\" ><thead>    <tr>        <th class=\"blank level0\" ></th>        <th class=\"col_heading level0 col0\" >9th</th>        <th class=\"col_heading level0 col1\" >10th</th>        <th class=\"col_heading level0 col2\" >11th</th>        <th class=\"col_heading level0 col3\" >12th</th>    </tr>    <tr>        <th class=\"index_name level0\" >School</th>        <th class=\"blank\" ></th>        <th class=\"blank\" ></th>        <th class=\"blank\" ></th>        <th class=\"blank\" ></th>    </tr></thead><tbody>\n",
       "                <tr>\n",
       "                        <th id=\"T_3cc14648_df23_11e9_95cf_484d7eea204clevel0_row0\" class=\"row_heading level0 row0\" >Bailey High School</th>\n",
       "                        <td id=\"T_3cc14648_df23_11e9_95cf_484d7eea204crow0_col0\" class=\"data row0 col0\" >81.3</td>\n",
       "                        <td id=\"T_3cc14648_df23_11e9_95cf_484d7eea204crow0_col1\" class=\"data row0 col1\" >80.9</td>\n",
       "                        <td id=\"T_3cc14648_df23_11e9_95cf_484d7eea204crow0_col2\" class=\"data row0 col2\" >80.9</td>\n",
       "                        <td id=\"T_3cc14648_df23_11e9_95cf_484d7eea204crow0_col3\" class=\"data row0 col3\" >80.9</td>\n",
       "            </tr>\n",
       "            <tr>\n",
       "                        <th id=\"T_3cc14648_df23_11e9_95cf_484d7eea204clevel0_row1\" class=\"row_heading level0 row1\" >Cabrera High School</th>\n",
       "                        <td id=\"T_3cc14648_df23_11e9_95cf_484d7eea204crow1_col0\" class=\"data row1 col0\" >83.7</td>\n",
       "                        <td id=\"T_3cc14648_df23_11e9_95cf_484d7eea204crow1_col1\" class=\"data row1 col1\" >84.3</td>\n",
       "                        <td id=\"T_3cc14648_df23_11e9_95cf_484d7eea204crow1_col2\" class=\"data row1 col2\" >83.8</td>\n",
       "                        <td id=\"T_3cc14648_df23_11e9_95cf_484d7eea204crow1_col3\" class=\"data row1 col3\" >84.3</td>\n",
       "            </tr>\n",
       "            <tr>\n",
       "                        <th id=\"T_3cc14648_df23_11e9_95cf_484d7eea204clevel0_row2\" class=\"row_heading level0 row2\" >Figueroa High School</th>\n",
       "                        <td id=\"T_3cc14648_df23_11e9_95cf_484d7eea204crow2_col0\" class=\"data row2 col0\" >81.2</td>\n",
       "                        <td id=\"T_3cc14648_df23_11e9_95cf_484d7eea204crow2_col1\" class=\"data row2 col1\" >81.4</td>\n",
       "                        <td id=\"T_3cc14648_df23_11e9_95cf_484d7eea204crow2_col2\" class=\"data row2 col2\" >80.6</td>\n",
       "                        <td id=\"T_3cc14648_df23_11e9_95cf_484d7eea204crow2_col3\" class=\"data row2 col3\" >81.4</td>\n",
       "            </tr>\n",
       "            <tr>\n",
       "                        <th id=\"T_3cc14648_df23_11e9_95cf_484d7eea204clevel0_row3\" class=\"row_heading level0 row3\" >Ford High School</th>\n",
       "                        <td id=\"T_3cc14648_df23_11e9_95cf_484d7eea204crow3_col0\" class=\"data row3 col0\" >80.6</td>\n",
       "                        <td id=\"T_3cc14648_df23_11e9_95cf_484d7eea204crow3_col1\" class=\"data row3 col1\" >81.3</td>\n",
       "                        <td id=\"T_3cc14648_df23_11e9_95cf_484d7eea204crow3_col2\" class=\"data row3 col2\" >80.4</td>\n",
       "                        <td id=\"T_3cc14648_df23_11e9_95cf_484d7eea204crow3_col3\" class=\"data row3 col3\" >80.7</td>\n",
       "            </tr>\n",
       "            <tr>\n",
       "                        <th id=\"T_3cc14648_df23_11e9_95cf_484d7eea204clevel0_row4\" class=\"row_heading level0 row4\" >Griffin High School</th>\n",
       "                        <td id=\"T_3cc14648_df23_11e9_95cf_484d7eea204crow4_col0\" class=\"data row4 col0\" >83.4</td>\n",
       "                        <td id=\"T_3cc14648_df23_11e9_95cf_484d7eea204crow4_col1\" class=\"data row4 col1\" >83.7</td>\n",
       "                        <td id=\"T_3cc14648_df23_11e9_95cf_484d7eea204crow4_col2\" class=\"data row4 col2\" >84.3</td>\n",
       "                        <td id=\"T_3cc14648_df23_11e9_95cf_484d7eea204crow4_col3\" class=\"data row4 col3\" >84.0</td>\n",
       "            </tr>\n",
       "            <tr>\n",
       "                        <th id=\"T_3cc14648_df23_11e9_95cf_484d7eea204clevel0_row5\" class=\"row_heading level0 row5\" >Hernandez High School</th>\n",
       "                        <td id=\"T_3cc14648_df23_11e9_95cf_484d7eea204crow5_col0\" class=\"data row5 col0\" >80.9</td>\n",
       "                        <td id=\"T_3cc14648_df23_11e9_95cf_484d7eea204crow5_col1\" class=\"data row5 col1\" >80.7</td>\n",
       "                        <td id=\"T_3cc14648_df23_11e9_95cf_484d7eea204crow5_col2\" class=\"data row5 col2\" >81.4</td>\n",
       "                        <td id=\"T_3cc14648_df23_11e9_95cf_484d7eea204crow5_col3\" class=\"data row5 col3\" >80.9</td>\n",
       "            </tr>\n",
       "            <tr>\n",
       "                        <th id=\"T_3cc14648_df23_11e9_95cf_484d7eea204clevel0_row6\" class=\"row_heading level0 row6\" >Holden High School</th>\n",
       "                        <td id=\"T_3cc14648_df23_11e9_95cf_484d7eea204crow6_col0\" class=\"data row6 col0\" >83.7</td>\n",
       "                        <td id=\"T_3cc14648_df23_11e9_95cf_484d7eea204crow6_col1\" class=\"data row6 col1\" >83.3</td>\n",
       "                        <td id=\"T_3cc14648_df23_11e9_95cf_484d7eea204crow6_col2\" class=\"data row6 col2\" >83.8</td>\n",
       "                        <td id=\"T_3cc14648_df23_11e9_95cf_484d7eea204crow6_col3\" class=\"data row6 col3\" >84.7</td>\n",
       "            </tr>\n",
       "            <tr>\n",
       "                        <th id=\"T_3cc14648_df23_11e9_95cf_484d7eea204clevel0_row7\" class=\"row_heading level0 row7\" >Huang High School</th>\n",
       "                        <td id=\"T_3cc14648_df23_11e9_95cf_484d7eea204crow7_col0\" class=\"data row7 col0\" >81.3</td>\n",
       "                        <td id=\"T_3cc14648_df23_11e9_95cf_484d7eea204crow7_col1\" class=\"data row7 col1\" >81.5</td>\n",
       "                        <td id=\"T_3cc14648_df23_11e9_95cf_484d7eea204crow7_col2\" class=\"data row7 col2\" >81.4</td>\n",
       "                        <td id=\"T_3cc14648_df23_11e9_95cf_484d7eea204crow7_col3\" class=\"data row7 col3\" >80.3</td>\n",
       "            </tr>\n",
       "            <tr>\n",
       "                        <th id=\"T_3cc14648_df23_11e9_95cf_484d7eea204clevel0_row8\" class=\"row_heading level0 row8\" >Johnson High School</th>\n",
       "                        <td id=\"T_3cc14648_df23_11e9_95cf_484d7eea204crow8_col0\" class=\"data row8 col0\" >81.3</td>\n",
       "                        <td id=\"T_3cc14648_df23_11e9_95cf_484d7eea204crow8_col1\" class=\"data row8 col1\" >80.8</td>\n",
       "                        <td id=\"T_3cc14648_df23_11e9_95cf_484d7eea204crow8_col2\" class=\"data row8 col2\" >80.6</td>\n",
       "                        <td id=\"T_3cc14648_df23_11e9_95cf_484d7eea204crow8_col3\" class=\"data row8 col3\" >81.2</td>\n",
       "            </tr>\n",
       "            <tr>\n",
       "                        <th id=\"T_3cc14648_df23_11e9_95cf_484d7eea204clevel0_row9\" class=\"row_heading level0 row9\" >Pena High School</th>\n",
       "                        <td id=\"T_3cc14648_df23_11e9_95cf_484d7eea204crow9_col0\" class=\"data row9 col0\" >83.8</td>\n",
       "                        <td id=\"T_3cc14648_df23_11e9_95cf_484d7eea204crow9_col1\" class=\"data row9 col1\" >83.6</td>\n",
       "                        <td id=\"T_3cc14648_df23_11e9_95cf_484d7eea204crow9_col2\" class=\"data row9 col2\" >84.3</td>\n",
       "                        <td id=\"T_3cc14648_df23_11e9_95cf_484d7eea204crow9_col3\" class=\"data row9 col3\" >84.6</td>\n",
       "            </tr>\n",
       "            <tr>\n",
       "                        <th id=\"T_3cc14648_df23_11e9_95cf_484d7eea204clevel0_row10\" class=\"row_heading level0 row10\" >Rodriguez High School</th>\n",
       "                        <td id=\"T_3cc14648_df23_11e9_95cf_484d7eea204crow10_col0\" class=\"data row10 col0\" >81.0</td>\n",
       "                        <td id=\"T_3cc14648_df23_11e9_95cf_484d7eea204crow10_col1\" class=\"data row10 col1\" >80.6</td>\n",
       "                        <td id=\"T_3cc14648_df23_11e9_95cf_484d7eea204crow10_col2\" class=\"data row10 col2\" >80.9</td>\n",
       "                        <td id=\"T_3cc14648_df23_11e9_95cf_484d7eea204crow10_col3\" class=\"data row10 col3\" >80.4</td>\n",
       "            </tr>\n",
       "            <tr>\n",
       "                        <th id=\"T_3cc14648_df23_11e9_95cf_484d7eea204clevel0_row11\" class=\"row_heading level0 row11\" >Shelton High School</th>\n",
       "                        <td id=\"T_3cc14648_df23_11e9_95cf_484d7eea204crow11_col0\" class=\"data row11 col0\" >84.1</td>\n",
       "                        <td id=\"T_3cc14648_df23_11e9_95cf_484d7eea204crow11_col1\" class=\"data row11 col1\" >83.4</td>\n",
       "                        <td id=\"T_3cc14648_df23_11e9_95cf_484d7eea204crow11_col2\" class=\"data row11 col2\" >84.4</td>\n",
       "                        <td id=\"T_3cc14648_df23_11e9_95cf_484d7eea204crow11_col3\" class=\"data row11 col3\" >82.8</td>\n",
       "            </tr>\n",
       "            <tr>\n",
       "                        <th id=\"T_3cc14648_df23_11e9_95cf_484d7eea204clevel0_row12\" class=\"row_heading level0 row12\" >Thomas High School</th>\n",
       "                        <td id=\"T_3cc14648_df23_11e9_95cf_484d7eea204crow12_col0\" class=\"data row12 col0\" >83.7</td>\n",
       "                        <td id=\"T_3cc14648_df23_11e9_95cf_484d7eea204crow12_col1\" class=\"data row12 col1\" >84.3</td>\n",
       "                        <td id=\"T_3cc14648_df23_11e9_95cf_484d7eea204crow12_col2\" class=\"data row12 col2\" >83.6</td>\n",
       "                        <td id=\"T_3cc14648_df23_11e9_95cf_484d7eea204crow12_col3\" class=\"data row12 col3\" >83.8</td>\n",
       "            </tr>\n",
       "            <tr>\n",
       "                        <th id=\"T_3cc14648_df23_11e9_95cf_484d7eea204clevel0_row13\" class=\"row_heading level0 row13\" >Wilson High School</th>\n",
       "                        <td id=\"T_3cc14648_df23_11e9_95cf_484d7eea204crow13_col0\" class=\"data row13 col0\" >83.9</td>\n",
       "                        <td id=\"T_3cc14648_df23_11e9_95cf_484d7eea204crow13_col1\" class=\"data row13 col1\" >84.0</td>\n",
       "                        <td id=\"T_3cc14648_df23_11e9_95cf_484d7eea204crow13_col2\" class=\"data row13 col2\" >83.8</td>\n",
       "                        <td id=\"T_3cc14648_df23_11e9_95cf_484d7eea204crow13_col3\" class=\"data row13 col3\" >84.3</td>\n",
       "            </tr>\n",
       "            <tr>\n",
       "                        <th id=\"T_3cc14648_df23_11e9_95cf_484d7eea204clevel0_row14\" class=\"row_heading level0 row14\" >Wright High School</th>\n",
       "                        <td id=\"T_3cc14648_df23_11e9_95cf_484d7eea204crow14_col0\" class=\"data row14 col0\" >83.8</td>\n",
       "                        <td id=\"T_3cc14648_df23_11e9_95cf_484d7eea204crow14_col1\" class=\"data row14 col1\" >83.8</td>\n",
       "                        <td id=\"T_3cc14648_df23_11e9_95cf_484d7eea204crow14_col2\" class=\"data row14 col2\" >84.2</td>\n",
       "                        <td id=\"T_3cc14648_df23_11e9_95cf_484d7eea204crow14_col3\" class=\"data row14 col3\" >84.1</td>\n",
       "            </tr>\n",
       "    </tbody></table>"
      ],
      "text/plain": [
       "<pandas.io.formats.style.Styler at 0x15d03614ba8>"
      ]
     },
     "execution_count": 92,
     "metadata": {},
     "output_type": "execute_result"
    }
   ],
   "source": [
    "reading_scores.style.format({'9th': '{:.1f}', \n",
    "                             \"10th\": '{:.1f}', \n",
    "                             \"11th\": \"{:.1f}\", \n",
    "                             \"12th\": \"{:.1f}\"})"
   ]
  },
  {
   "cell_type": "markdown",
   "metadata": {},
   "source": [
    "## Scores by School Spending"
   ]
  },
  {
   "cell_type": "code",
   "execution_count": 95,
   "metadata": {},
   "outputs": [],
   "source": [
    "bins = [0, 584.999, 614.999, 644.999, 999999]\n",
    "group_name = ['< $585', \"$585 - 614\", \"$615 - 644\", \"> $644\"]\n",
    "school_data_complete['spending_bins'] = pd.cut(school_data_complete['budget']/school_data_complete['size'], bins, labels = group_name)\n"
   ]
  },
  {
   "cell_type": "code",
   "execution_count": 96,
   "metadata": {},
   "outputs": [],
   "source": [
    "by_spending = school_data_complete.groupby('spending_bins')"
   ]
  },
  {
   "cell_type": "code",
   "execution_count": 97,
   "metadata": {},
   "outputs": [],
   "source": [
    "avg_math = by_spending['math_score'].mean()\n",
    "avg_read = by_spending['reading_score'].mean()\n",
    "pass_math = school_data_complete[school_data_complete['math_score'] >= 70].groupby('spending_bins')['Student ID'].count()/by_spending['Student ID'].count()\n",
    "pass_read = school_data_complete[school_data_complete['reading_score'] >= 70].groupby('spending_bins')['Student ID'].count()/by_spending['Student ID'].count()\n",
    "overall = school_data_complete[(school_data_complete['reading_score'] >= 70) & (school_data_complete['math_score'] >= 70)].groupby('spending_bins')['Student ID'].count()/by_spending['Student ID'].count()\n"
   ]
  },
  {
   "cell_type": "code",
   "execution_count": 98,
   "metadata": {},
   "outputs": [],
   "source": [
    "scores_by_spend = pd.DataFrame({\n",
    "    \"Average Math Score\": avg_math,\n",
    "    \"Average Reading Score\": avg_read,\n",
    "    '% Passing Math': pass_math,\n",
    "    '% Passing Reading': pass_read,\n",
    "    \"Overall Passing Rate\": overall})"
   ]
  },
  {
   "cell_type": "code",
   "execution_count": 99,
   "metadata": {},
   "outputs": [],
   "source": [
    "scores_by_spend = scores_by_spend[[\n",
    "    \"Average Math Score\",\n",
    "    \"Average Reading Score\",\n",
    "    '% Passing Math',\n",
    "    '% Passing Reading',\n",
    "    \"Overall Passing Rate\"]]"
   ]
  },
  {
   "cell_type": "code",
   "execution_count": 100,
   "metadata": {},
   "outputs": [],
   "source": [
    "scores_by_spend.index.name = \"Per Student Budget\"\n",
    "scores_by_spend = scores_by_spend.reindex(group_name)"
   ]
  },
  {
   "cell_type": "code",
   "execution_count": 101,
   "metadata": {},
   "outputs": [
    {
     "data": {
      "text/html": [
       "<style  type=\"text/css\" >\n",
       "</style><table id=\"T_e473b7ba_df23_11e9_bd3b_484d7eea204c\" ><thead>    <tr>        <th class=\"blank level0\" ></th>        <th class=\"col_heading level0 col0\" >Average Math Score</th>        <th class=\"col_heading level0 col1\" >Average Reading Score</th>        <th class=\"col_heading level0 col2\" >% Passing Math</th>        <th class=\"col_heading level0 col3\" >% Passing Reading</th>        <th class=\"col_heading level0 col4\" >Overall Passing Rate</th>    </tr>    <tr>        <th class=\"index_name level0\" >Per Student Budget</th>        <th class=\"blank\" ></th>        <th class=\"blank\" ></th>        <th class=\"blank\" ></th>        <th class=\"blank\" ></th>        <th class=\"blank\" ></th>    </tr></thead><tbody>\n",
       "                <tr>\n",
       "                        <th id=\"T_e473b7ba_df23_11e9_bd3b_484d7eea204clevel0_row0\" class=\"row_heading level0 row0\" >< $585</th>\n",
       "                        <td id=\"T_e473b7ba_df23_11e9_bd3b_484d7eea204crow0_col0\" class=\"data row0 col0\" >83.4</td>\n",
       "                        <td id=\"T_e473b7ba_df23_11e9_bd3b_484d7eea204crow0_col1\" class=\"data row0 col1\" >84.0</td>\n",
       "                        <td id=\"T_e473b7ba_df23_11e9_bd3b_484d7eea204crow0_col2\" class=\"data row0 col2\" >93.7%</td>\n",
       "                        <td id=\"T_e473b7ba_df23_11e9_bd3b_484d7eea204crow0_col3\" class=\"data row0 col3\" >96.7%</td>\n",
       "                        <td id=\"T_e473b7ba_df23_11e9_bd3b_484d7eea204crow0_col4\" class=\"data row0 col4\" >90.6%</td>\n",
       "            </tr>\n",
       "            <tr>\n",
       "                        <th id=\"T_e473b7ba_df23_11e9_bd3b_484d7eea204clevel0_row1\" class=\"row_heading level0 row1\" >$585 - 614</th>\n",
       "                        <td id=\"T_e473b7ba_df23_11e9_bd3b_484d7eea204crow1_col0\" class=\"data row1 col0\" >83.5</td>\n",
       "                        <td id=\"T_e473b7ba_df23_11e9_bd3b_484d7eea204crow1_col1\" class=\"data row1 col1\" >83.8</td>\n",
       "                        <td id=\"T_e473b7ba_df23_11e9_bd3b_484d7eea204crow1_col2\" class=\"data row1 col2\" >94.1%</td>\n",
       "                        <td id=\"T_e473b7ba_df23_11e9_bd3b_484d7eea204crow1_col3\" class=\"data row1 col3\" >95.9%</td>\n",
       "                        <td id=\"T_e473b7ba_df23_11e9_bd3b_484d7eea204crow1_col4\" class=\"data row1 col4\" >90.1%</td>\n",
       "            </tr>\n",
       "            <tr>\n",
       "                        <th id=\"T_e473b7ba_df23_11e9_bd3b_484d7eea204clevel0_row2\" class=\"row_heading level0 row2\" >$615 - 644</th>\n",
       "                        <td id=\"T_e473b7ba_df23_11e9_bd3b_484d7eea204crow2_col0\" class=\"data row2 col0\" >78.1</td>\n",
       "                        <td id=\"T_e473b7ba_df23_11e9_bd3b_484d7eea204crow2_col1\" class=\"data row2 col1\" >81.4</td>\n",
       "                        <td id=\"T_e473b7ba_df23_11e9_bd3b_484d7eea204crow2_col2\" class=\"data row2 col2\" >71.4%</td>\n",
       "                        <td id=\"T_e473b7ba_df23_11e9_bd3b_484d7eea204crow2_col3\" class=\"data row2 col3\" >83.6%</td>\n",
       "                        <td id=\"T_e473b7ba_df23_11e9_bd3b_484d7eea204crow2_col4\" class=\"data row2 col4\" >60.3%</td>\n",
       "            </tr>\n",
       "            <tr>\n",
       "                        <th id=\"T_e473b7ba_df23_11e9_bd3b_484d7eea204clevel0_row3\" class=\"row_heading level0 row3\" >> $644</th>\n",
       "                        <td id=\"T_e473b7ba_df23_11e9_bd3b_484d7eea204crow3_col0\" class=\"data row3 col0\" >77.0</td>\n",
       "                        <td id=\"T_e473b7ba_df23_11e9_bd3b_484d7eea204crow3_col1\" class=\"data row3 col1\" >81.0</td>\n",
       "                        <td id=\"T_e473b7ba_df23_11e9_bd3b_484d7eea204crow3_col2\" class=\"data row3 col2\" >66.2%</td>\n",
       "                        <td id=\"T_e473b7ba_df23_11e9_bd3b_484d7eea204crow3_col3\" class=\"data row3 col3\" >81.1%</td>\n",
       "                        <td id=\"T_e473b7ba_df23_11e9_bd3b_484d7eea204crow3_col4\" class=\"data row3 col4\" >53.5%</td>\n",
       "            </tr>\n",
       "    </tbody></table>"
      ],
      "text/plain": [
       "<pandas.io.formats.style.Styler at 0x15d0362f6a0>"
      ]
     },
     "execution_count": 101,
     "metadata": {},
     "output_type": "execute_result"
    }
   ],
   "source": [
    "scores_by_spend.style.format({'Average Math Score': '{:.1f}', \n",
    "                              'Average Reading Score': '{:.1f}', \n",
    "                              '% Passing Math': '{:.1%}', \n",
    "                              '% Passing Reading':'{:.1%}', \n",
    "                              'Overall Passing Rate': '{:.1%}'})"
   ]
  },
  {
   "cell_type": "code",
   "execution_count": 18,
   "metadata": {},
   "outputs": [
    {
     "data": {
      "text/html": [
       "<div>\n",
       "<style scoped>\n",
       "    .dataframe tbody tr th:only-of-type {\n",
       "        vertical-align: middle;\n",
       "    }\n",
       "\n",
       "    .dataframe tbody tr th {\n",
       "        vertical-align: top;\n",
       "    }\n",
       "\n",
       "    .dataframe thead th {\n",
       "        text-align: right;\n",
       "    }\n",
       "</style>\n",
       "<table border=\"1\" class=\"dataframe\">\n",
       "  <thead>\n",
       "    <tr style=\"text-align: right;\">\n",
       "      <th></th>\n",
       "      <th>Average Math Score</th>\n",
       "      <th>Average Reading Score</th>\n",
       "      <th>% Passing Math</th>\n",
       "      <th>% Passing Reading</th>\n",
       "      <th>% Overall Passing Rate</th>\n",
       "    </tr>\n",
       "    <tr>\n",
       "      <th>Spending Ranges (Per Student)</th>\n",
       "      <th></th>\n",
       "      <th></th>\n",
       "      <th></th>\n",
       "      <th></th>\n",
       "      <th></th>\n",
       "    </tr>\n",
       "  </thead>\n",
       "  <tbody>\n",
       "    <tr>\n",
       "      <th>&lt;$585</th>\n",
       "      <td>83.455399</td>\n",
       "      <td>83.933814</td>\n",
       "      <td>93.460096</td>\n",
       "      <td>96.610877</td>\n",
       "      <td>95.035486</td>\n",
       "    </tr>\n",
       "    <tr>\n",
       "      <th>$585-615</th>\n",
       "      <td>83.599686</td>\n",
       "      <td>83.885211</td>\n",
       "      <td>94.230858</td>\n",
       "      <td>95.900287</td>\n",
       "      <td>95.065572</td>\n",
       "    </tr>\n",
       "    <tr>\n",
       "      <th>$615-645</th>\n",
       "      <td>79.079225</td>\n",
       "      <td>81.891436</td>\n",
       "      <td>75.668212</td>\n",
       "      <td>86.106569</td>\n",
       "      <td>80.887391</td>\n",
       "    </tr>\n",
       "    <tr>\n",
       "      <th>$645-675</th>\n",
       "      <td>76.997210</td>\n",
       "      <td>81.027843</td>\n",
       "      <td>66.164813</td>\n",
       "      <td>81.133951</td>\n",
       "      <td>73.649382</td>\n",
       "    </tr>\n",
       "  </tbody>\n",
       "</table>\n",
       "</div>"
      ],
      "text/plain": [
       "                               Average Math Score  Average Reading Score  \\\n",
       "Spending Ranges (Per Student)                                              \n",
       "<$585                                   83.455399              83.933814   \n",
       "$585-615                                83.599686              83.885211   \n",
       "$615-645                                79.079225              81.891436   \n",
       "$645-675                                76.997210              81.027843   \n",
       "\n",
       "                               % Passing Math  % Passing Reading  \\\n",
       "Spending Ranges (Per Student)                                      \n",
       "<$585                               93.460096          96.610877   \n",
       "$585-615                            94.230858          95.900287   \n",
       "$615-645                            75.668212          86.106569   \n",
       "$645-675                            66.164813          81.133951   \n",
       "\n",
       "                               % Overall Passing Rate  \n",
       "Spending Ranges (Per Student)                          \n",
       "<$585                                       95.035486  \n",
       "$585-615                                    95.065572  \n",
       "$615-645                                    80.887391  \n",
       "$645-675                                    73.649382  "
      ]
     },
     "execution_count": 18,
     "metadata": {},
     "output_type": "execute_result"
    }
   ],
   "source": []
  },
  {
   "cell_type": "markdown",
   "metadata": {},
   "source": [
    "## Scores by School Size"
   ]
  },
  {
   "cell_type": "markdown",
   "metadata": {},
   "source": [
    "* Perform the same operations as above, based on school size."
   ]
  },
  {
   "cell_type": "code",
   "execution_count": 102,
   "metadata": {},
   "outputs": [],
   "source": [
    "# Sample bins. Feel free to create your own bins.\n",
    "#size_bins = [0, 1000, 2000, 5000]\n",
    "#group_names = [\"Small (<1000)\", \"Medium (1000-2000)\", \"Large (2000-5000)\"]"
   ]
  },
  {
   "cell_type": "code",
   "execution_count": 103,
   "metadata": {},
   "outputs": [],
   "source": [
    "bins = [0, 999, 1999, 99999999999]\n",
    "group_name = [\"Small (<1000)\", \"Medium (1000-2000)\" , \"Large (>2000)\"]\n",
    "school_data_complete['size_bins'] = pd.cut(school_data_complete['size'], bins, labels = group_name)"
   ]
  },
  {
   "cell_type": "code",
   "execution_count": 108,
   "metadata": {},
   "outputs": [],
   "source": [
    "by_size = school_data_complete.groupby('size_bins')"
   ]
  },
  {
   "cell_type": "code",
   "execution_count": 110,
   "metadata": {},
   "outputs": [],
   "source": [
    "avg_math = by_size['math_score'].mean()\n",
    "avg_read = by_size['math_score'].mean()\n",
    "pass_math = school_data_complete[school_data_complete['math_score'] >= 70].groupby('size_bins')['Student ID'].count()/by_size['Student ID'].count()\n",
    "pass_read = school_data_complete[school_data_complete['reading_score'] >= 70].groupby('size_bins')['Student ID'].count()/by_size['Student ID'].count()\n",
    "overall = school_data_complete[(school_data_complete['reading_score'] >= 70) & (school_data_complete['math_score'] >= 70)].groupby('size_bins')['Student ID'].count()/by_size['Student ID'].count()"
   ]
  },
  {
   "cell_type": "code",
   "execution_count": 111,
   "metadata": {},
   "outputs": [],
   "source": [
    "scores_by_size = pd.DataFrame({\n",
    "    \"Average Math Score\": avg_math,\n",
    "    \"Average Reading Score\": avg_read,\n",
    "    '% Passing Math': pass_math,\n",
    "    '% Passing Reading': pass_read,\n",
    "    \"Overall Passing Rate\": overall})"
   ]
  },
  {
   "cell_type": "code",
   "execution_count": 112,
   "metadata": {},
   "outputs": [],
   "source": [
    "scores_by_size = scores_by_size[[\n",
    "    \"Average Math Score\",\n",
    "    \"Average Reading Score\",\n",
    "    '% Passing Math',\n",
    "    '% Passing Reading',\n",
    "    \"Overall Passing Rate\"]]"
   ]
  },
  {
   "cell_type": "code",
   "execution_count": 113,
   "metadata": {},
   "outputs": [],
   "source": [
    "scores_by_size.index.name = \"Total Students\"\n",
    "scores_by_size = scores_by_size.reindex(group_name)"
   ]
  },
  {
   "cell_type": "code",
   "execution_count": 114,
   "metadata": {},
   "outputs": [
    {
     "data": {
      "text/html": [
       "<style  type=\"text/css\" >\n",
       "</style><table id=\"T_9f796a10_df24_11e9_9091_484d7eea204c\" ><thead>    <tr>        <th class=\"blank level0\" ></th>        <th class=\"col_heading level0 col0\" >Average Math Score</th>        <th class=\"col_heading level0 col1\" >Average Reading Score</th>        <th class=\"col_heading level0 col2\" >% Passing Math</th>        <th class=\"col_heading level0 col3\" >% Passing Reading</th>        <th class=\"col_heading level0 col4\" >Overall Passing Rate</th>    </tr>    <tr>        <th class=\"index_name level0\" >Total Students</th>        <th class=\"blank\" ></th>        <th class=\"blank\" ></th>        <th class=\"blank\" ></th>        <th class=\"blank\" ></th>        <th class=\"blank\" ></th>    </tr></thead><tbody>\n",
       "                <tr>\n",
       "                        <th id=\"T_9f796a10_df24_11e9_9091_484d7eea204clevel0_row0\" class=\"row_heading level0 row0\" >Small (<1000)</th>\n",
       "                        <td id=\"T_9f796a10_df24_11e9_9091_484d7eea204crow0_col0\" class=\"data row0 col0\" >83.8</td>\n",
       "                        <td id=\"T_9f796a10_df24_11e9_9091_484d7eea204crow0_col1\" class=\"data row0 col1\" >83.8</td>\n",
       "                        <td id=\"T_9f796a10_df24_11e9_9091_484d7eea204crow0_col2\" class=\"data row0 col2\" >94.0%</td>\n",
       "                        <td id=\"T_9f796a10_df24_11e9_9091_484d7eea204crow0_col3\" class=\"data row0 col3\" >96.0%</td>\n",
       "                        <td id=\"T_9f796a10_df24_11e9_9091_484d7eea204crow0_col4\" class=\"data row0 col4\" >90.1%</td>\n",
       "            </tr>\n",
       "            <tr>\n",
       "                        <th id=\"T_9f796a10_df24_11e9_9091_484d7eea204clevel0_row1\" class=\"row_heading level0 row1\" >Medium (1000-2000)</th>\n",
       "                        <td id=\"T_9f796a10_df24_11e9_9091_484d7eea204crow1_col0\" class=\"data row1 col0\" >83.4</td>\n",
       "                        <td id=\"T_9f796a10_df24_11e9_9091_484d7eea204crow1_col1\" class=\"data row1 col1\" >83.4</td>\n",
       "                        <td id=\"T_9f796a10_df24_11e9_9091_484d7eea204crow1_col2\" class=\"data row1 col2\" >93.6%</td>\n",
       "                        <td id=\"T_9f796a10_df24_11e9_9091_484d7eea204crow1_col3\" class=\"data row1 col3\" >96.8%</td>\n",
       "                        <td id=\"T_9f796a10_df24_11e9_9091_484d7eea204crow1_col4\" class=\"data row1 col4\" >90.6%</td>\n",
       "            </tr>\n",
       "            <tr>\n",
       "                        <th id=\"T_9f796a10_df24_11e9_9091_484d7eea204clevel0_row2\" class=\"row_heading level0 row2\" >Large (>2000)</th>\n",
       "                        <td id=\"T_9f796a10_df24_11e9_9091_484d7eea204crow2_col0\" class=\"data row2 col0\" >77.5</td>\n",
       "                        <td id=\"T_9f796a10_df24_11e9_9091_484d7eea204crow2_col1\" class=\"data row2 col1\" >77.5</td>\n",
       "                        <td id=\"T_9f796a10_df24_11e9_9091_484d7eea204crow2_col2\" class=\"data row2 col2\" >68.7%</td>\n",
       "                        <td id=\"T_9f796a10_df24_11e9_9091_484d7eea204crow2_col3\" class=\"data row2 col3\" >82.1%</td>\n",
       "                        <td id=\"T_9f796a10_df24_11e9_9091_484d7eea204crow2_col4\" class=\"data row2 col4\" >56.6%</td>\n",
       "            </tr>\n",
       "    </tbody></table>"
      ],
      "text/plain": [
       "<pandas.io.formats.style.Styler at 0x15d03665d30>"
      ]
     },
     "execution_count": 114,
     "metadata": {},
     "output_type": "execute_result"
    }
   ],
   "source": [
    "scores_by_size.style.format({'Average Math Score': '{:.1f}', \n",
    "                              'Average Reading Score': '{:.1f}', \n",
    "                              '% Passing Math': '{:.1%}', \n",
    "                              '% Passing Reading':'{:.1%}', \n",
    "                              'Overall Passing Rate': '{:.1%}'})"
   ]
  },
  {
   "cell_type": "code",
   "execution_count": null,
   "metadata": {},
   "outputs": [],
   "source": []
  },
  {
   "cell_type": "code",
   "execution_count": null,
   "metadata": {},
   "outputs": [],
   "source": []
  },
  {
   "cell_type": "markdown",
   "metadata": {},
   "source": [
    "## Scores by School Type"
   ]
  },
  {
   "cell_type": "markdown",
   "metadata": {},
   "source": [
    "* Perform the same operations as above, based on school type."
   ]
  },
  {
   "cell_type": "code",
   "execution_count": 115,
   "metadata": {},
   "outputs": [],
   "source": [
    "by_type = school_data_complete.groupby(\"type\")"
   ]
  },
  {
   "cell_type": "code",
   "execution_count": 116,
   "metadata": {},
   "outputs": [],
   "source": [
    "avg_math = by_type['math_score'].mean()\n",
    "avg_read = by_type['math_score'].mean()\n",
    "pass_math = school_data_complete[school_data_complete['math_score'] >= 70].groupby('type')['Student ID'].count()/by_type['Student ID'].count()\n",
    "pass_read = school_data_complete[school_data_complete['reading_score'] >= 70].groupby('type')['Student ID'].count()/by_type['Student ID'].count()\n",
    "overall = school_data_complete[(school_data_complete['reading_score'] >= 70) & (school_data_complete['math_score'] >= 70)].groupby('type')['Student ID'].count()/by_type['Student ID'].count()\n"
   ]
  },
  {
   "cell_type": "code",
   "execution_count": 117,
   "metadata": {},
   "outputs": [],
   "source": [
    "scores_by_type = pd.DataFrame({\n",
    "    \"Average Math Score\": avg_math,\n",
    "    \"Average Reading Score\": avg_read,\n",
    "    '% Passing Math': pass_math,\n",
    "    '% Passing Reading': pass_read,\n",
    "    \"Overall Passing Rate\": overall})"
   ]
  },
  {
   "cell_type": "code",
   "execution_count": 118,
   "metadata": {},
   "outputs": [],
   "source": [
    "scores_by_type = scores_by_type[[\n",
    "    \"Average Math Score\",\n",
    "    \"Average Reading Score\",\n",
    "    '% Passing Math',\n",
    "    '% Passing Reading',\n",
    "    \"Overall Passing Rate\"]]"
   ]
  },
  {
   "cell_type": "code",
   "execution_count": 119,
   "metadata": {},
   "outputs": [],
   "source": [
    "scores_by_type.index.name = \"Type of School\""
   ]
  },
  {
   "cell_type": "code",
   "execution_count": 120,
   "metadata": {},
   "outputs": [
    {
     "data": {
      "text/html": [
       "<style  type=\"text/css\" >\n",
       "</style><table id=\"T_ff72fb6c_df24_11e9_8345_484d7eea204c\" ><thead>    <tr>        <th class=\"blank level0\" ></th>        <th class=\"col_heading level0 col0\" >Average Math Score</th>        <th class=\"col_heading level0 col1\" >Average Reading Score</th>        <th class=\"col_heading level0 col2\" >% Passing Math</th>        <th class=\"col_heading level0 col3\" >% Passing Reading</th>        <th class=\"col_heading level0 col4\" >Overall Passing Rate</th>    </tr>    <tr>        <th class=\"index_name level0\" >Type of School</th>        <th class=\"blank\" ></th>        <th class=\"blank\" ></th>        <th class=\"blank\" ></th>        <th class=\"blank\" ></th>        <th class=\"blank\" ></th>    </tr></thead><tbody>\n",
       "                <tr>\n",
       "                        <th id=\"T_ff72fb6c_df24_11e9_8345_484d7eea204clevel0_row0\" class=\"row_heading level0 row0\" >Charter</th>\n",
       "                        <td id=\"T_ff72fb6c_df24_11e9_8345_484d7eea204crow0_col0\" class=\"data row0 col0\" >83.4</td>\n",
       "                        <td id=\"T_ff72fb6c_df24_11e9_8345_484d7eea204crow0_col1\" class=\"data row0 col1\" >83.4</td>\n",
       "                        <td id=\"T_ff72fb6c_df24_11e9_8345_484d7eea204crow0_col2\" class=\"data row0 col2\" >93.7%</td>\n",
       "                        <td id=\"T_ff72fb6c_df24_11e9_8345_484d7eea204crow0_col3\" class=\"data row0 col3\" >96.6%</td>\n",
       "                        <td id=\"T_ff72fb6c_df24_11e9_8345_484d7eea204crow0_col4\" class=\"data row0 col4\" >90.6%</td>\n",
       "            </tr>\n",
       "            <tr>\n",
       "                        <th id=\"T_ff72fb6c_df24_11e9_8345_484d7eea204clevel0_row1\" class=\"row_heading level0 row1\" >District</th>\n",
       "                        <td id=\"T_ff72fb6c_df24_11e9_8345_484d7eea204crow1_col0\" class=\"data row1 col0\" >77.0</td>\n",
       "                        <td id=\"T_ff72fb6c_df24_11e9_8345_484d7eea204crow1_col1\" class=\"data row1 col1\" >77.0</td>\n",
       "                        <td id=\"T_ff72fb6c_df24_11e9_8345_484d7eea204crow1_col2\" class=\"data row1 col2\" >66.5%</td>\n",
       "                        <td id=\"T_ff72fb6c_df24_11e9_8345_484d7eea204crow1_col3\" class=\"data row1 col3\" >80.9%</td>\n",
       "                        <td id=\"T_ff72fb6c_df24_11e9_8345_484d7eea204crow1_col4\" class=\"data row1 col4\" >53.7%</td>\n",
       "            </tr>\n",
       "    </tbody></table>"
      ],
      "text/plain": [
       "<pandas.io.formats.style.Styler at 0x15d03649588>"
      ]
     },
     "execution_count": 120,
     "metadata": {},
     "output_type": "execute_result"
    }
   ],
   "source": [
    "scores_by_type.style.format({'Average Math Score': '{:.1f}', \n",
    "                              'Average Reading Score': '{:.1f}', \n",
    "                              '% Passing Math': '{:.1%}', \n",
    "                              '% Passing Reading':'{:.1%}', \n",
    "                              'Overall Passing Rate': '{:.1%}'})"
   ]
  },
  {
   "cell_type": "code",
   "execution_count": null,
   "metadata": {},
   "outputs": [],
   "source": []
  },
  {
   "cell_type": "code",
   "execution_count": null,
   "metadata": {},
   "outputs": [],
   "source": []
  }
 ],
 "metadata": {
  "anaconda-cloud": {},
  "kernel_info": {
   "name": "python3"
  },
  "kernelspec": {
   "display_name": "Python 3",
   "language": "python",
   "name": "python3"
  },
  "language_info": {
   "codemirror_mode": {
    "name": "ipython",
    "version": 3
   },
   "file_extension": ".py",
   "mimetype": "text/x-python",
   "name": "python",
   "nbconvert_exporter": "python",
   "pygments_lexer": "ipython3",
   "version": "3.7.3"
  },
  "latex_envs": {
   "LaTeX_envs_menu_present": true,
   "autoclose": false,
   "autocomplete": true,
   "bibliofile": "biblio.bib",
   "cite_by": "apalike",
   "current_citInitial": 1,
   "eqLabelWithNumbers": true,
   "eqNumInitial": 1,
   "hotkeys": {
    "equation": "Ctrl-E",
    "itemize": "Ctrl-I"
   },
   "labels_anchors": false,
   "latex_user_defs": false,
   "report_style_numbering": false,
   "user_envs_cfg": false
  },
  "nteract": {
   "version": "0.8.4"
  }
 },
 "nbformat": 4,
 "nbformat_minor": 1
}
